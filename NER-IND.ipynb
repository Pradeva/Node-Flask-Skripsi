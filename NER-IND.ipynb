{
 "cells": [
  {
   "cell_type": "code",
   "execution_count": 22,
   "id": "841cda1f-022e-47af-8750-74650743088b",
   "metadata": {},
   "outputs": [],
   "source": [
    "from __future__ import unicode_literals, print_function\n",
    "import plac\n",
    "import random\n",
    "from pathlib import Path\n",
    "import spacy\n",
    "from tqdm import tqdm "
   ]
  },
  {
   "cell_type": "code",
   "execution_count": 23,
   "id": "fff13ba1-a3f3-41f1-a482-67dfac3c4fb5",
   "metadata": {},
   "outputs": [],
   "source": [
    "# Var : Variable\n",
    "# Relas : Relational (sama dengan,tidak sama dengan,lebih dari, kurang dari, lebih dari sama dengan, kurang dari sama dengan)\n",
    "# Gate : Logical Gate\n",
    "\n",
    "TRAIN_DATA = [\n",
    "    ('Total Buah lebih dari 15', { #lebih dari\n",
    "        'entities': [(11, 21, 'Relas')]\n",
    "    }),\n",
    "     ('Cable Type sama dengan Optic', { #sama dengan\n",
    "        'entities': [(11, 22, 'Relas')]\n",
    "    }),\n",
    "    ('Tanggal kurang dari 17', { #kurang dari\n",
    "        'entities': [(8, 19, 'Relas')]\n",
    "    }),\n",
    "    ('Username sama dengan benar dan Password sama dengan benar', { #sama dengan, dan, sama dengan\n",
    "        'entities': [(9, 20, 'Relas'), (27, 30, 'Gate'), (40, 51, 'Relas')]\n",
    "    }),\n",
    "    ('Harga lebih dari 1000 dan Total kurang dari 2000', {\n",
    "        'entities': [(6, 16, 'Relas'), (22, 25, 'Gate'), (32, 43, 'Relas')] #lebih dari, dan, kurang dari\n",
    "    }),\n",
    "    ('Rating lebih dari sama dengan 4 dan Harga kurang dari 500', { #lebih dari sama dengan, dan, kurang dari\n",
    "        'entities': [(7, 29, 'Relas'), (32, 35, 'Gate'), (42, 53, 'Relas')]\n",
    "    }),\n",
    "    ('Suhu sama dengan 25 atau Kelembaban lebih dari 70', { #sama dengan, atau, lebih dari\n",
    "        'entities': [(5, 16, 'Relas'), (20, 24, 'Gate'), (36, 46, 'Relas')]\n",
    "    }),\n",
    "    ('Juara sama dengan 1', { #sama dengan\n",
    "        'entities': [(6, 17, 'Relas')]\n",
    "    }),\n",
    "    ('Jarak lebih dari sama dengan 300 meter dan Kecepatan lebih dari 25', { #lebih dari sama dengan, dan, lebih dari\n",
    "        'entities': [(6, 28, 'Relas'), (39, 42, 'Gate'), (53, 63, 'Relas')]\n",
    "    }),\n",
    "    ('Berat tidak sama dengan 100 kg', { #tidak sama dengan\n",
    "        'entities': [(6, 23, 'Relas')]\n",
    "    })\n",
    "]"
   ]
  },
  {
   "cell_type": "code",
   "execution_count": 24,
   "id": "37e7f430-626a-4292-ab7b-3d0c2054c338",
   "metadata": {},
   "outputs": [],
   "source": [
    "model = None\n",
    "output_dir=Path(\"/home/pradeva/Documents/NER-API/MODEL\")\n",
    "n_iter=100"
   ]
  },
  {
   "cell_type": "code",
   "execution_count": 25,
   "id": "b14adf6b-6d2e-4b8b-953a-1a44dced5299",
   "metadata": {},
   "outputs": [
    {
     "name": "stdout",
     "output_type": "stream",
     "text": [
      "Created blank 'en' model\n"
     ]
    }
   ],
   "source": [
    "if model is not None:\n",
    "    nlp = spacy.load(model)  \n",
    "    print(\"Loaded model '%s'\" % model)\n",
    "else:\n",
    "    nlp = spacy.blank('en')  \n",
    "    print(\"Created blank 'en' model\")"
   ]
  },
  {
   "cell_type": "code",
   "execution_count": 26,
   "id": "53c78df5-d2e5-4283-905a-ebde2eaca8cc",
   "metadata": {},
   "outputs": [
    {
     "data": {
      "text/plain": [
       "<spacy.pipeline.ner.EntityRecognizer at 0x7f6435e4d740>"
      ]
     },
     "execution_count": 26,
     "metadata": {},
     "output_type": "execute_result"
    }
   ],
   "source": [
    "if 'ner' not in nlp.pipe_names:\n",
    "    ner = nlp.create_pipe('ner')\n",
    "    nlp.add_pipe('ner', last=True)\n",
    "else:\n",
    "    ner = nlp.get_pipe('ner')\n",
    "\n",
    "ner"
   ]
  },
  {
   "cell_type": "code",
   "execution_count": 27,
   "id": "50eb21c1-cd8a-4fb6-b2c5-61950ecf50b0",
   "metadata": {},
   "outputs": [
    {
     "name": "stderr",
     "output_type": "stream",
     "text": [
      "100%|██████████| 10/10 [00:00<00:00, 75.86it/s]\n"
     ]
    },
    {
     "name": "stdout",
     "output_type": "stream",
     "text": [
      "Iterasi 1, Train Data Accuracy: 0.00%\n",
      "{'ner': 57.21972641348839}\n"
     ]
    },
    {
     "name": "stderr",
     "output_type": "stream",
     "text": [
      "100%|██████████| 10/10 [00:00<00:00, 78.33it/s]\n"
     ]
    },
    {
     "name": "stdout",
     "output_type": "stream",
     "text": [
      "Iterasi 2, Train Data Accuracy: 0.00%\n",
      "{'ner': 34.44277781248093}\n"
     ]
    },
    {
     "name": "stderr",
     "output_type": "stream",
     "text": [
      "100%|██████████| 10/10 [00:00<00:00, 82.07it/s]\n"
     ]
    },
    {
     "name": "stdout",
     "output_type": "stream",
     "text": [
      "Iterasi 3, Train Data Accuracy: 0.00%\n",
      "{'ner': 30.91238233167678}\n"
     ]
    },
    {
     "name": "stderr",
     "output_type": "stream",
     "text": [
      "100%|██████████| 10/10 [00:00<00:00, 73.70it/s]\n"
     ]
    },
    {
     "name": "stdout",
     "output_type": "stream",
     "text": [
      "Iterasi 4, Train Data Accuracy: 0.00%\n",
      "{'ner': 27.47522562695667}\n"
     ]
    },
    {
     "name": "stderr",
     "output_type": "stream",
     "text": [
      "100%|██████████| 10/10 [00:00<00:00, 80.91it/s]\n"
     ]
    },
    {
     "name": "stdout",
     "output_type": "stream",
     "text": [
      "Iterasi 5, Train Data Accuracy: 7.69%\n",
      "{'ner': 28.219765395391732}\n"
     ]
    },
    {
     "name": "stderr",
     "output_type": "stream",
     "text": [
      "100%|██████████| 10/10 [00:00<00:00, 82.05it/s]\n"
     ]
    },
    {
     "name": "stdout",
     "output_type": "stream",
     "text": [
      "Iterasi 6, Train Data Accuracy: 18.75%\n",
      "{'ner': 40.641983271809295}\n"
     ]
    },
    {
     "name": "stderr",
     "output_type": "stream",
     "text": [
      "100%|██████████| 10/10 [00:00<00:00, 83.15it/s]\n"
     ]
    },
    {
     "name": "stdout",
     "output_type": "stream",
     "text": [
      "Iterasi 7, Train Data Accuracy: 26.32%\n",
      "{'ner': 30.375411143526435}\n"
     ]
    },
    {
     "name": "stderr",
     "output_type": "stream",
     "text": [
      "100%|██████████| 10/10 [00:00<00:00, 70.84it/s]\n"
     ]
    },
    {
     "name": "stdout",
     "output_type": "stream",
     "text": [
      "Iterasi 8, Train Data Accuracy: 30.00%\n",
      "{'ner': 18.987898067804053}\n"
     ]
    },
    {
     "name": "stderr",
     "output_type": "stream",
     "text": [
      "100%|██████████| 10/10 [00:00<00:00, 69.31it/s]\n"
     ]
    },
    {
     "name": "stdout",
     "output_type": "stream",
     "text": [
      "Iterasi 9, Train Data Accuracy: 28.57%\n",
      "{'ner': 13.447813229635358}\n"
     ]
    },
    {
     "name": "stderr",
     "output_type": "stream",
     "text": [
      "100%|██████████| 10/10 [00:00<00:00, 59.06it/s]\n"
     ]
    },
    {
     "name": "stdout",
     "output_type": "stream",
     "text": [
      "Iterasi 10, Train Data Accuracy: 27.27%\n",
      "{'ner': 12.011112748447971}\n"
     ]
    },
    {
     "name": "stderr",
     "output_type": "stream",
     "text": [
      "100%|██████████| 10/10 [00:00<00:00, 65.51it/s]\n"
     ]
    },
    {
     "name": "stdout",
     "output_type": "stream",
     "text": [
      "Iterasi 11, Train Data Accuracy: 30.43%\n",
      "{'ner': 8.78244716456002}\n"
     ]
    },
    {
     "name": "stderr",
     "output_type": "stream",
     "text": [
      "100%|██████████| 10/10 [00:00<00:00, 65.91it/s]\n"
     ]
    },
    {
     "name": "stdout",
     "output_type": "stream",
     "text": [
      "Iterasi 12, Train Data Accuracy: 33.33%\n",
      "{'ner': 6.908598970915479}\n"
     ]
    },
    {
     "name": "stderr",
     "output_type": "stream",
     "text": [
      "100%|██████████| 10/10 [00:00<00:00, 65.12it/s]\n"
     ]
    },
    {
     "name": "stdout",
     "output_type": "stream",
     "text": [
      "Iterasi 13, Train Data Accuracy: 36.00%\n",
      "{'ner': 8.185808587036105}\n"
     ]
    },
    {
     "name": "stderr",
     "output_type": "stream",
     "text": [
      "100%|██████████| 10/10 [00:00<00:00, 67.77it/s]\n"
     ]
    },
    {
     "name": "stdout",
     "output_type": "stream",
     "text": [
      "Iterasi 14, Train Data Accuracy: 42.86%\n",
      "{'ner': 9.8600702229367}\n"
     ]
    },
    {
     "name": "stderr",
     "output_type": "stream",
     "text": [
      "100%|██████████| 10/10 [00:00<00:00, 67.50it/s]\n"
     ]
    },
    {
     "name": "stdout",
     "output_type": "stream",
     "text": [
      "Iterasi 15, Train Data Accuracy: 44.83%\n",
      "{'ner': 6.070580126338058}\n"
     ]
    },
    {
     "name": "stderr",
     "output_type": "stream",
     "text": [
      "100%|██████████| 10/10 [00:00<00:00, 67.61it/s]\n"
     ]
    },
    {
     "name": "stdout",
     "output_type": "stream",
     "text": [
      "Iterasi 16, Train Data Accuracy: 46.88%\n",
      "{'ner': 6.97167944833188}\n"
     ]
    },
    {
     "name": "stderr",
     "output_type": "stream",
     "text": [
      "100%|██████████| 10/10 [00:00<00:00, 69.35it/s]\n"
     ]
    },
    {
     "name": "stdout",
     "output_type": "stream",
     "text": [
      "Iterasi 17, Train Data Accuracy: 48.48%\n",
      "{'ner': 8.392691271233872}\n"
     ]
    },
    {
     "name": "stderr",
     "output_type": "stream",
     "text": [
      "100%|██████████| 10/10 [00:00<00:00, 70.48it/s]\n"
     ]
    },
    {
     "name": "stdout",
     "output_type": "stream",
     "text": [
      "Iterasi 18, Train Data Accuracy: 50.00%\n",
      "{'ner': 7.15294845125983}\n"
     ]
    },
    {
     "name": "stderr",
     "output_type": "stream",
     "text": [
      "100%|██████████| 10/10 [00:00<00:00, 67.03it/s]\n"
     ]
    },
    {
     "name": "stdout",
     "output_type": "stream",
     "text": [
      "Iterasi 19, Train Data Accuracy: 51.43%\n",
      "{'ner': 6.220090172465709}\n"
     ]
    },
    {
     "name": "stderr",
     "output_type": "stream",
     "text": [
      "100%|██████████| 10/10 [00:00<00:00, 67.02it/s]\n"
     ]
    },
    {
     "name": "stdout",
     "output_type": "stream",
     "text": [
      "Iterasi 20, Train Data Accuracy: 55.26%\n",
      "{'ner': 5.489559853117386}\n"
     ]
    },
    {
     "name": "stderr",
     "output_type": "stream",
     "text": [
      "100%|██████████| 10/10 [00:00<00:00, 68.87it/s]\n"
     ]
    },
    {
     "name": "stdout",
     "output_type": "stream",
     "text": [
      "Iterasi 21, Train Data Accuracy: 56.41%\n",
      "{'ner': 4.549938497179869}\n"
     ]
    },
    {
     "name": "stderr",
     "output_type": "stream",
     "text": [
      "100%|██████████| 10/10 [00:00<00:00, 69.76it/s]\n"
     ]
    },
    {
     "name": "stdout",
     "output_type": "stream",
     "text": [
      "Iterasi 22, Train Data Accuracy: 57.50%\n",
      "{'ner': 7.549591677607367}\n"
     ]
    },
    {
     "name": "stderr",
     "output_type": "stream",
     "text": [
      "100%|██████████| 10/10 [00:00<00:00, 67.95it/s]\n"
     ]
    },
    {
     "name": "stdout",
     "output_type": "stream",
     "text": [
      "Iterasi 23, Train Data Accuracy: 60.47%\n",
      "{'ner': 7.009581121076098}\n"
     ]
    },
    {
     "name": "stderr",
     "output_type": "stream",
     "text": [
      "100%|██████████| 10/10 [00:00<00:00, 62.94it/s]\n"
     ]
    },
    {
     "name": "stdout",
     "output_type": "stream",
     "text": [
      "Iterasi 24, Train Data Accuracy: 60.87%\n",
      "{'ner': 7.636638747168818}\n"
     ]
    },
    {
     "name": "stderr",
     "output_type": "stream",
     "text": [
      "100%|██████████| 10/10 [00:00<00:00, 68.06it/s]\n"
     ]
    },
    {
     "name": "stdout",
     "output_type": "stream",
     "text": [
      "Iterasi 25, Train Data Accuracy: 63.27%\n",
      "{'ner': 6.947858740231808}\n"
     ]
    },
    {
     "name": "stderr",
     "output_type": "stream",
     "text": [
      "100%|██████████| 10/10 [00:00<00:00, 69.29it/s]\n"
     ]
    },
    {
     "name": "stdout",
     "output_type": "stream",
     "text": [
      "Iterasi 26, Train Data Accuracy: 64.00%\n",
      "{'ner': 3.9291230880265315}\n"
     ]
    },
    {
     "name": "stderr",
     "output_type": "stream",
     "text": [
      "100%|██████████| 10/10 [00:00<00:00, 67.42it/s]\n"
     ]
    },
    {
     "name": "stdout",
     "output_type": "stream",
     "text": [
      "Iterasi 27, Train Data Accuracy: 64.71%\n",
      "{'ner': 4.9750338999257995}\n"
     ]
    },
    {
     "name": "stderr",
     "output_type": "stream",
     "text": [
      "100%|██████████| 10/10 [00:00<00:00, 69.74it/s]\n"
     ]
    },
    {
     "name": "stdout",
     "output_type": "stream",
     "text": [
      "Iterasi 28, Train Data Accuracy: 65.38%\n",
      "{'ner': 3.378380111932916}\n"
     ]
    },
    {
     "name": "stderr",
     "output_type": "stream",
     "text": [
      "100%|██████████| 10/10 [00:00<00:00, 70.82it/s]\n"
     ]
    },
    {
     "name": "stdout",
     "output_type": "stream",
     "text": [
      "Iterasi 29, Train Data Accuracy: 67.27%\n",
      "{'ner': 2.807416290898449}\n"
     ]
    },
    {
     "name": "stderr",
     "output_type": "stream",
     "text": [
      "100%|██████████| 10/10 [00:00<00:00, 70.76it/s]\n"
     ]
    },
    {
     "name": "stdout",
     "output_type": "stream",
     "text": [
      "Iterasi 30, Train Data Accuracy: 67.86%\n",
      "{'ner': 3.1453804627619606}\n"
     ]
    },
    {
     "name": "stderr",
     "output_type": "stream",
     "text": [
      "100%|██████████| 10/10 [00:00<00:00, 70.33it/s]\n"
     ]
    },
    {
     "name": "stdout",
     "output_type": "stream",
     "text": [
      "Iterasi 31, Train Data Accuracy: 68.42%\n",
      "{'ner': 4.144265316354268}\n"
     ]
    },
    {
     "name": "stderr",
     "output_type": "stream",
     "text": [
      "100%|██████████| 10/10 [00:00<00:00, 69.25it/s]\n"
     ]
    },
    {
     "name": "stdout",
     "output_type": "stream",
     "text": [
      "Iterasi 32, Train Data Accuracy: 68.97%\n",
      "{'ner': 3.0257618930388817}\n"
     ]
    },
    {
     "name": "stderr",
     "output_type": "stream",
     "text": [
      "100%|██████████| 10/10 [00:00<00:00, 71.48it/s]\n"
     ]
    },
    {
     "name": "stdout",
     "output_type": "stream",
     "text": [
      "Iterasi 33, Train Data Accuracy: 69.49%\n",
      "{'ner': 5.17306953818234}\n"
     ]
    },
    {
     "name": "stderr",
     "output_type": "stream",
     "text": [
      "100%|██████████| 10/10 [00:00<00:00, 70.11it/s]\n"
     ]
    },
    {
     "name": "stdout",
     "output_type": "stream",
     "text": [
      "Iterasi 34, Train Data Accuracy: 70.00%\n",
      "{'ner': 2.422603759839467}\n"
     ]
    },
    {
     "name": "stderr",
     "output_type": "stream",
     "text": [
      "100%|██████████| 10/10 [00:00<00:00, 69.34it/s]\n"
     ]
    },
    {
     "name": "stdout",
     "output_type": "stream",
     "text": [
      "Iterasi 35, Train Data Accuracy: 71.43%\n",
      "{'ner': 0.11231074533992207}\n"
     ]
    },
    {
     "name": "stderr",
     "output_type": "stream",
     "text": [
      "100%|██████████| 10/10 [00:00<00:00, 68.63it/s]\n"
     ]
    },
    {
     "name": "stdout",
     "output_type": "stream",
     "text": [
      "Iterasi 36, Train Data Accuracy: 71.88%\n",
      "{'ner': 1.9799872789810982}\n"
     ]
    },
    {
     "name": "stderr",
     "output_type": "stream",
     "text": [
      "100%|██████████| 10/10 [00:00<00:00, 69.81it/s]\n"
     ]
    },
    {
     "name": "stdout",
     "output_type": "stream",
     "text": [
      "Iterasi 37, Train Data Accuracy: 72.31%\n",
      "{'ner': 1.6441955133742054}\n"
     ]
    },
    {
     "name": "stderr",
     "output_type": "stream",
     "text": [
      "100%|██████████| 10/10 [00:00<00:00, 68.59it/s]\n"
     ]
    },
    {
     "name": "stdout",
     "output_type": "stream",
     "text": [
      "Iterasi 38, Train Data Accuracy: 73.53%\n",
      "{'ner': 0.4103285801197124}\n"
     ]
    },
    {
     "name": "stderr",
     "output_type": "stream",
     "text": [
      "100%|██████████| 10/10 [00:00<00:00, 63.86it/s]\n"
     ]
    },
    {
     "name": "stdout",
     "output_type": "stream",
     "text": [
      "Iterasi 39, Train Data Accuracy: 74.65%\n",
      "{'ner': 0.019431992869858916}\n"
     ]
    },
    {
     "name": "stderr",
     "output_type": "stream",
     "text": [
      "100%|██████████| 10/10 [00:00<00:00, 70.66it/s]\n"
     ]
    },
    {
     "name": "stdout",
     "output_type": "stream",
     "text": [
      "Iterasi 40, Train Data Accuracy: 75.00%\n",
      "{'ner': 0.02507035750211818}\n"
     ]
    },
    {
     "name": "stderr",
     "output_type": "stream",
     "text": [
      "100%|██████████| 10/10 [00:00<00:00, 71.83it/s]\n"
     ]
    },
    {
     "name": "stdout",
     "output_type": "stream",
     "text": [
      "Iterasi 41, Train Data Accuracy: 76.00%\n",
      "{'ner': 0.13126439415723526}\n"
     ]
    },
    {
     "name": "stderr",
     "output_type": "stream",
     "text": [
      "100%|██████████| 10/10 [00:00<00:00, 72.13it/s]\n"
     ]
    },
    {
     "name": "stdout",
     "output_type": "stream",
     "text": [
      "Iterasi 42, Train Data Accuracy: 76.32%\n",
      "{'ner': 2.8547345840908585}\n"
     ]
    },
    {
     "name": "stderr",
     "output_type": "stream",
     "text": [
      "100%|██████████| 10/10 [00:00<00:00, 70.83it/s]\n"
     ]
    },
    {
     "name": "stdout",
     "output_type": "stream",
     "text": [
      "Iterasi 43, Train Data Accuracy: 76.62%\n",
      "{'ner': 0.678702742999425}\n"
     ]
    },
    {
     "name": "stderr",
     "output_type": "stream",
     "text": [
      "100%|██████████| 10/10 [00:00<00:00, 68.47it/s]\n"
     ]
    },
    {
     "name": "stdout",
     "output_type": "stream",
     "text": [
      "Iterasi 44, Train Data Accuracy: 77.50%\n",
      "{'ner': 0.019645245627082846}\n"
     ]
    },
    {
     "name": "stderr",
     "output_type": "stream",
     "text": [
      "100%|██████████| 10/10 [00:00<00:00, 70.96it/s]\n"
     ]
    },
    {
     "name": "stdout",
     "output_type": "stream",
     "text": [
      "Iterasi 45, Train Data Accuracy: 78.31%\n",
      "{'ner': 0.4925745555577029}\n"
     ]
    },
    {
     "name": "stderr",
     "output_type": "stream",
     "text": [
      "100%|██████████| 10/10 [00:00<00:00, 71.59it/s]\n"
     ]
    },
    {
     "name": "stdout",
     "output_type": "stream",
     "text": [
      "Iterasi 46, Train Data Accuracy: 78.57%\n",
      "{'ner': 0.2603541924627371}\n"
     ]
    },
    {
     "name": "stderr",
     "output_type": "stream",
     "text": [
      "100%|██████████| 10/10 [00:00<00:00, 70.07it/s]\n"
     ]
    },
    {
     "name": "stdout",
     "output_type": "stream",
     "text": [
      "Iterasi 47, Train Data Accuracy: 78.82%\n",
      "{'ner': 1.4181674457744513}\n"
     ]
    },
    {
     "name": "stderr",
     "output_type": "stream",
     "text": [
      "100%|██████████| 10/10 [00:00<00:00, 70.90it/s]\n"
     ]
    },
    {
     "name": "stdout",
     "output_type": "stream",
     "text": [
      "Iterasi 48, Train Data Accuracy: 79.07%\n",
      "{'ner': 1.8343980072090915}\n"
     ]
    },
    {
     "name": "stderr",
     "output_type": "stream",
     "text": [
      "100%|██████████| 10/10 [00:00<00:00, 69.36it/s]\n"
     ]
    },
    {
     "name": "stdout",
     "output_type": "stream",
     "text": [
      "Iterasi 49, Train Data Accuracy: 79.78%\n",
      "{'ner': 0.3464972297198876}\n"
     ]
    },
    {
     "name": "stderr",
     "output_type": "stream",
     "text": [
      "100%|██████████| 10/10 [00:00<00:00, 70.91it/s]\n"
     ]
    },
    {
     "name": "stdout",
     "output_type": "stream",
     "text": [
      "Iterasi 50, Train Data Accuracy: 80.00%\n",
      "{'ner': 1.6777049015678944}\n"
     ]
    },
    {
     "name": "stderr",
     "output_type": "stream",
     "text": [
      "100%|██████████| 10/10 [00:00<00:00, 71.08it/s]\n"
     ]
    },
    {
     "name": "stdout",
     "output_type": "stream",
     "text": [
      "Iterasi 51, Train Data Accuracy: 80.22%\n",
      "{'ner': 0.00048440013700007796}\n"
     ]
    },
    {
     "name": "stderr",
     "output_type": "stream",
     "text": [
      "100%|██████████| 10/10 [00:00<00:00, 66.89it/s]\n"
     ]
    },
    {
     "name": "stdout",
     "output_type": "stream",
     "text": [
      "Iterasi 52, Train Data Accuracy: 80.85%\n",
      "{'ner': 0.610778397947288}\n"
     ]
    },
    {
     "name": "stderr",
     "output_type": "stream",
     "text": [
      "100%|██████████| 10/10 [00:00<00:00, 64.86it/s]\n"
     ]
    },
    {
     "name": "stdout",
     "output_type": "stream",
     "text": [
      "Iterasi 53, Train Data Accuracy: 81.05%\n",
      "{'ner': 0.0003176781036904671}\n"
     ]
    },
    {
     "name": "stderr",
     "output_type": "stream",
     "text": [
      "100%|██████████| 10/10 [00:00<00:00, 68.44it/s]\n"
     ]
    },
    {
     "name": "stdout",
     "output_type": "stream",
     "text": [
      "Iterasi 54, Train Data Accuracy: 81.25%\n",
      "{'ner': 0.0037204447236418164}\n"
     ]
    },
    {
     "name": "stderr",
     "output_type": "stream",
     "text": [
      "100%|██████████| 10/10 [00:00<00:00, 70.73it/s]\n"
     ]
    },
    {
     "name": "stdout",
     "output_type": "stream",
     "text": [
      "Iterasi 55, Train Data Accuracy: 81.82%\n",
      "{'ner': 0.00011642752089050545}\n"
     ]
    },
    {
     "name": "stderr",
     "output_type": "stream",
     "text": [
      "100%|██████████| 10/10 [00:00<00:00, 65.30it/s]\n"
     ]
    },
    {
     "name": "stdout",
     "output_type": "stream",
     "text": [
      "Iterasi 56, Train Data Accuracy: 82.00%\n",
      "{'ner': 1.5384913471918502e-05}\n"
     ]
    },
    {
     "name": "stderr",
     "output_type": "stream",
     "text": [
      "100%|██████████| 10/10 [00:00<00:00, 61.56it/s]\n"
     ]
    },
    {
     "name": "stdout",
     "output_type": "stream",
     "text": [
      "Iterasi 57, Train Data Accuracy: 82.18%\n",
      "{'ner': 4.219672268716001e-06}\n"
     ]
    },
    {
     "name": "stderr",
     "output_type": "stream",
     "text": [
      "100%|██████████| 10/10 [00:00<00:00, 68.55it/s]\n"
     ]
    },
    {
     "name": "stdout",
     "output_type": "stream",
     "text": [
      "Iterasi 58, Train Data Accuracy: 82.69%\n",
      "{'ner': 1.9325429995011298}\n"
     ]
    },
    {
     "name": "stderr",
     "output_type": "stream",
     "text": [
      "100%|██████████| 10/10 [00:00<00:00, 67.54it/s]\n"
     ]
    },
    {
     "name": "stdout",
     "output_type": "stream",
     "text": [
      "Iterasi 59, Train Data Accuracy: 82.86%\n",
      "{'ner': 1.7612472969708953e-07}\n"
     ]
    },
    {
     "name": "stderr",
     "output_type": "stream",
     "text": [
      "100%|██████████| 10/10 [00:00<00:00, 70.13it/s]\n"
     ]
    },
    {
     "name": "stdout",
     "output_type": "stream",
     "text": [
      "Iterasi 60, Train Data Accuracy: 83.02%\n",
      "{'ner': 3.05486262003384}\n"
     ]
    },
    {
     "name": "stderr",
     "output_type": "stream",
     "text": [
      "100%|██████████| 10/10 [00:00<00:00, 68.32it/s]\n"
     ]
    },
    {
     "name": "stdout",
     "output_type": "stream",
     "text": [
      "Iterasi 61, Train Data Accuracy: 83.18%\n",
      "{'ner': 0.006253369653955794}\n"
     ]
    },
    {
     "name": "stderr",
     "output_type": "stream",
     "text": [
      "100%|██████████| 10/10 [00:00<00:00, 65.19it/s]\n"
     ]
    },
    {
     "name": "stdout",
     "output_type": "stream",
     "text": [
      "Iterasi 62, Train Data Accuracy: 83.64%\n",
      "{'ner': 6.385214123001618e-05}\n"
     ]
    },
    {
     "name": "stderr",
     "output_type": "stream",
     "text": [
      "100%|██████████| 10/10 [00:00<00:00, 65.41it/s]\n"
     ]
    },
    {
     "name": "stdout",
     "output_type": "stream",
     "text": [
      "Iterasi 63, Train Data Accuracy: 84.07%\n",
      "{'ner': 0.0006039218277920376}\n"
     ]
    },
    {
     "name": "stderr",
     "output_type": "stream",
     "text": [
      "100%|██████████| 10/10 [00:00<00:00, 66.10it/s]\n"
     ]
    },
    {
     "name": "stdout",
     "output_type": "stream",
     "text": [
      "Iterasi 64, Train Data Accuracy: 84.21%\n",
      "{'ner': 3.090066306444972e-06}\n"
     ]
    },
    {
     "name": "stderr",
     "output_type": "stream",
     "text": [
      "100%|██████████| 10/10 [00:00<00:00, 64.48it/s]\n"
     ]
    },
    {
     "name": "stdout",
     "output_type": "stream",
     "text": [
      "Iterasi 65, Train Data Accuracy: 84.35%\n",
      "{'ner': 0.11919042596851023}\n"
     ]
    },
    {
     "name": "stderr",
     "output_type": "stream",
     "text": [
      "100%|██████████| 10/10 [00:00<00:00, 64.67it/s]\n"
     ]
    },
    {
     "name": "stdout",
     "output_type": "stream",
     "text": [
      "Iterasi 66, Train Data Accuracy: 84.48%\n",
      "{'ner': 0.0003329327895636479}\n"
     ]
    },
    {
     "name": "stderr",
     "output_type": "stream",
     "text": [
      "100%|██████████| 10/10 [00:00<00:00, 60.64it/s]\n"
     ]
    },
    {
     "name": "stdout",
     "output_type": "stream",
     "text": [
      "Iterasi 67, Train Data Accuracy: 84.62%\n",
      "{'ner': 0.005290250449405577}\n"
     ]
    },
    {
     "name": "stderr",
     "output_type": "stream",
     "text": [
      "100%|██████████| 10/10 [00:00<00:00, 65.32it/s]\n"
     ]
    },
    {
     "name": "stdout",
     "output_type": "stream",
     "text": [
      "Iterasi 68, Train Data Accuracy: 85.00%\n",
      "{'ner': 8.14662318614745e-05}\n"
     ]
    },
    {
     "name": "stderr",
     "output_type": "stream",
     "text": [
      "100%|██████████| 10/10 [00:00<00:00, 67.41it/s]\n"
     ]
    },
    {
     "name": "stdout",
     "output_type": "stream",
     "text": [
      "Iterasi 69, Train Data Accuracy: 85.12%\n",
      "{'ner': 3.8988839554894863}\n"
     ]
    },
    {
     "name": "stderr",
     "output_type": "stream",
     "text": [
      "100%|██████████| 10/10 [00:00<00:00, 68.77it/s]\n"
     ]
    },
    {
     "name": "stdout",
     "output_type": "stream",
     "text": [
      "Iterasi 70, Train Data Accuracy: 85.48%\n",
      "{'ner': 0.1917749122301224}\n"
     ]
    },
    {
     "name": "stderr",
     "output_type": "stream",
     "text": [
      "100%|██████████| 10/10 [00:00<00:00, 67.95it/s]\n"
     ]
    },
    {
     "name": "stdout",
     "output_type": "stream",
     "text": [
      "Iterasi 71, Train Data Accuracy: 85.83%\n",
      "{'ner': 0.000142838271137455}\n"
     ]
    },
    {
     "name": "stderr",
     "output_type": "stream",
     "text": [
      "100%|██████████| 10/10 [00:00<00:00, 69.07it/s]\n"
     ]
    },
    {
     "name": "stdout",
     "output_type": "stream",
     "text": [
      "Iterasi 72, Train Data Accuracy: 86.15%\n",
      "{'ner': 4.3549880349932004e-05}\n"
     ]
    },
    {
     "name": "stderr",
     "output_type": "stream",
     "text": [
      "100%|██████████| 10/10 [00:00<00:00, 69.12it/s]\n"
     ]
    },
    {
     "name": "stdout",
     "output_type": "stream",
     "text": [
      "Iterasi 73, Train Data Accuracy: 86.26%\n",
      "{'ner': 7.137769813406396e-06}\n"
     ]
    },
    {
     "name": "stderr",
     "output_type": "stream",
     "text": [
      "100%|██████████| 10/10 [00:00<00:00, 68.38it/s]\n"
     ]
    },
    {
     "name": "stdout",
     "output_type": "stream",
     "text": [
      "Iterasi 74, Train Data Accuracy: 86.57%\n",
      "{'ner': 1.5542251447939528e-07}\n"
     ]
    },
    {
     "name": "stderr",
     "output_type": "stream",
     "text": [
      "100%|██████████| 10/10 [00:00<00:00, 70.53it/s]\n"
     ]
    },
    {
     "name": "stdout",
     "output_type": "stream",
     "text": [
      "Iterasi 75, Train Data Accuracy: 86.86%\n",
      "{'ner': 2.2572394943911773e-05}\n"
     ]
    },
    {
     "name": "stderr",
     "output_type": "stream",
     "text": [
      "100%|██████████| 10/10 [00:00<00:00, 67.30it/s]\n"
     ]
    },
    {
     "name": "stdout",
     "output_type": "stream",
     "text": [
      "Iterasi 76, Train Data Accuracy: 86.96%\n",
      "{'ner': 0.0002598138805118266}\n"
     ]
    },
    {
     "name": "stderr",
     "output_type": "stream",
     "text": [
      "100%|██████████| 10/10 [00:00<00:00, 68.46it/s]\n"
     ]
    },
    {
     "name": "stdout",
     "output_type": "stream",
     "text": [
      "Iterasi 77, Train Data Accuracy: 87.23%\n",
      "{'ner': 1.138639363611865e-05}\n"
     ]
    },
    {
     "name": "stderr",
     "output_type": "stream",
     "text": [
      "100%|██████████| 10/10 [00:00<00:00, 68.12it/s]\n"
     ]
    },
    {
     "name": "stdout",
     "output_type": "stream",
     "text": [
      "Iterasi 78, Train Data Accuracy: 87.32%\n",
      "{'ner': 8.631530493643093e-07}\n"
     ]
    },
    {
     "name": "stderr",
     "output_type": "stream",
     "text": [
      "100%|██████████| 10/10 [00:00<00:00, 68.60it/s]\n"
     ]
    },
    {
     "name": "stdout",
     "output_type": "stream",
     "text": [
      "Iterasi 79, Train Data Accuracy: 87.59%\n",
      "{'ner': 3.96853232981654e-06}\n"
     ]
    },
    {
     "name": "stderr",
     "output_type": "stream",
     "text": [
      "100%|██████████| 10/10 [00:00<00:00, 67.06it/s]\n"
     ]
    },
    {
     "name": "stdout",
     "output_type": "stream",
     "text": [
      "Iterasi 80, Train Data Accuracy: 87.67%\n",
      "{'ner': 0.00022877656801526878}\n"
     ]
    },
    {
     "name": "stderr",
     "output_type": "stream",
     "text": [
      "100%|██████████| 10/10 [00:00<00:00, 65.31it/s]\n"
     ]
    },
    {
     "name": "stdout",
     "output_type": "stream",
     "text": [
      "Iterasi 81, Train Data Accuracy: 87.76%\n",
      "{'ner': 2.5195080435048623e-07}\n"
     ]
    },
    {
     "name": "stderr",
     "output_type": "stream",
     "text": [
      "100%|██████████| 10/10 [00:00<00:00, 70.07it/s]\n"
     ]
    },
    {
     "name": "stdout",
     "output_type": "stream",
     "text": [
      "Iterasi 82, Train Data Accuracy: 88.00%\n",
      "{'ner': 0.0668434819277775}\n"
     ]
    },
    {
     "name": "stderr",
     "output_type": "stream",
     "text": [
      "100%|██████████| 10/10 [00:00<00:00, 69.82it/s]\n"
     ]
    },
    {
     "name": "stdout",
     "output_type": "stream",
     "text": [
      "Iterasi 83, Train Data Accuracy: 88.08%\n",
      "{'ner': 6.501027216596662e-08}\n"
     ]
    },
    {
     "name": "stderr",
     "output_type": "stream",
     "text": [
      "100%|██████████| 10/10 [00:00<00:00, 67.87it/s]\n"
     ]
    },
    {
     "name": "stdout",
     "output_type": "stream",
     "text": [
      "Iterasi 84, Train Data Accuracy: 88.31%\n",
      "{'ner': 0.00025976401000172585}\n"
     ]
    },
    {
     "name": "stderr",
     "output_type": "stream",
     "text": [
      "100%|██████████| 10/10 [00:00<00:00, 68.73it/s]\n"
     ]
    },
    {
     "name": "stdout",
     "output_type": "stream",
     "text": [
      "Iterasi 85, Train Data Accuracy: 88.54%\n",
      "{'ner': 4.850334810437412e-07}\n"
     ]
    },
    {
     "name": "stderr",
     "output_type": "stream",
     "text": [
      "100%|██████████| 10/10 [00:00<00:00, 69.30it/s]\n"
     ]
    },
    {
     "name": "stdout",
     "output_type": "stream",
     "text": [
      "Iterasi 86, Train Data Accuracy: 88.75%\n",
      "{'ner': 1.57298198981166e-05}\n"
     ]
    },
    {
     "name": "stderr",
     "output_type": "stream",
     "text": [
      "100%|██████████| 10/10 [00:00<00:00, 67.60it/s]\n"
     ]
    },
    {
     "name": "stdout",
     "output_type": "stream",
     "text": [
      "Iterasi 87, Train Data Accuracy: 88.96%\n",
      "{'ner': 0.4406948900067314}\n"
     ]
    },
    {
     "name": "stderr",
     "output_type": "stream",
     "text": [
      "100%|██████████| 10/10 [00:00<00:00, 69.58it/s]\n"
     ]
    },
    {
     "name": "stdout",
     "output_type": "stream",
     "text": [
      "Iterasi 88, Train Data Accuracy: 89.02%\n",
      "{'ner': 4.774050190651307e-07}\n"
     ]
    },
    {
     "name": "stderr",
     "output_type": "stream",
     "text": [
      "100%|██████████| 10/10 [00:00<00:00, 68.50it/s]\n"
     ]
    },
    {
     "name": "stdout",
     "output_type": "stream",
     "text": [
      "Iterasi 89, Train Data Accuracy: 89.09%\n",
      "{'ner': 2.8434972958784113e-07}\n"
     ]
    },
    {
     "name": "stderr",
     "output_type": "stream",
     "text": [
      "100%|██████████| 10/10 [00:00<00:00, 68.80it/s]\n"
     ]
    },
    {
     "name": "stdout",
     "output_type": "stream",
     "text": [
      "Iterasi 90, Train Data Accuracy: 89.16%\n",
      "{'ner': 7.306697627808647e-08}\n"
     ]
    },
    {
     "name": "stderr",
     "output_type": "stream",
     "text": [
      "100%|██████████| 10/10 [00:00<00:00, 69.42it/s]\n"
     ]
    },
    {
     "name": "stdout",
     "output_type": "stream",
     "text": [
      "Iterasi 91, Train Data Accuracy: 89.22%\n",
      "{'ner': 7.180589762339619e-07}\n"
     ]
    },
    {
     "name": "stderr",
     "output_type": "stream",
     "text": [
      "100%|██████████| 10/10 [00:00<00:00, 69.92it/s]\n"
     ]
    },
    {
     "name": "stdout",
     "output_type": "stream",
     "text": [
      "Iterasi 92, Train Data Accuracy: 89.29%\n",
      "{'ner': 2.07493535608113e-05}\n"
     ]
    },
    {
     "name": "stderr",
     "output_type": "stream",
     "text": [
      "100%|██████████| 10/10 [00:00<00:00, 68.77it/s]\n"
     ]
    },
    {
     "name": "stdout",
     "output_type": "stream",
     "text": [
      "Iterasi 93, Train Data Accuracy: 89.35%\n",
      "{'ner': 3.5848138331190533e-07}\n"
     ]
    },
    {
     "name": "stderr",
     "output_type": "stream",
     "text": [
      "100%|██████████| 10/10 [00:00<00:00, 63.10it/s]\n"
     ]
    },
    {
     "name": "stdout",
     "output_type": "stream",
     "text": [
      "Iterasi 94, Train Data Accuracy: 89.41%\n",
      "{'ner': 0.0029731602314924097}\n"
     ]
    },
    {
     "name": "stderr",
     "output_type": "stream",
     "text": [
      "100%|██████████| 10/10 [00:00<00:00, 62.30it/s]\n"
     ]
    },
    {
     "name": "stdout",
     "output_type": "stream",
     "text": [
      "Iterasi 95, Train Data Accuracy: 89.47%\n",
      "{'ner': 0.12633497675242153}\n"
     ]
    },
    {
     "name": "stderr",
     "output_type": "stream",
     "text": [
      "100%|██████████| 10/10 [00:00<00:00, 66.53it/s]\n"
     ]
    },
    {
     "name": "stdout",
     "output_type": "stream",
     "text": [
      "Iterasi 96, Train Data Accuracy: 89.53%\n",
      "{'ner': 6.144985584230915e-08}\n"
     ]
    },
    {
     "name": "stderr",
     "output_type": "stream",
     "text": [
      "100%|██████████| 10/10 [00:00<00:00, 64.34it/s]\n"
     ]
    },
    {
     "name": "stdout",
     "output_type": "stream",
     "text": [
      "Iterasi 97, Train Data Accuracy: 89.71%\n",
      "{'ner': 0.03326344076193989}\n"
     ]
    },
    {
     "name": "stderr",
     "output_type": "stream",
     "text": [
      "100%|██████████| 10/10 [00:00<00:00, 62.92it/s]\n"
     ]
    },
    {
     "name": "stdout",
     "output_type": "stream",
     "text": [
      "Iterasi 98, Train Data Accuracy: 89.89%\n",
      "{'ner': 1.3783125206575135}\n"
     ]
    },
    {
     "name": "stderr",
     "output_type": "stream",
     "text": [
      "100%|██████████| 10/10 [00:00<00:00, 69.19it/s]\n"
     ]
    },
    {
     "name": "stdout",
     "output_type": "stream",
     "text": [
      "Iterasi 99, Train Data Accuracy: 90.06%\n",
      "{'ner': 2.3675536243687163e-06}\n"
     ]
    },
    {
     "name": "stderr",
     "output_type": "stream",
     "text": [
      "100%|██████████| 10/10 [00:00<00:00, 69.39it/s]"
     ]
    },
    {
     "name": "stdout",
     "output_type": "stream",
     "text": [
      "Iterasi 100, Train Data Accuracy: 90.22%\n",
      "{'ner': 0.0007119634434587432}\n"
     ]
    },
    {
     "name": "stderr",
     "output_type": "stream",
     "text": [
      "\n"
     ]
    }
   ],
   "source": [
    "from spacy.training.example import Example\n",
    "\n",
    "for _, annotations in TRAIN_DATA:\n",
    "    for ent in annotations.get('entities'):\n",
    "        ner.add_label(ent[2])\n",
    "\n",
    "correct_train_entities = 0  # Untuk menghitung entitas yang diidentifikasi dengan benar pada data pelatihan\n",
    "total_train_entities = 0    # Untuk menghitung total entitas sebenarnya pada data pelatihan\n",
    "\n",
    "other_pipes = [pipe for pipe in nlp.pipe_names if pipe != 'ner']\n",
    "with nlp.disable_pipes(*other_pipes):  # only train NER\n",
    "    optimizer = nlp.begin_training()\n",
    "    for itn in range(n_iter):\n",
    "        random.shuffle(TRAIN_DATA)\n",
    "        losses = {}\n",
    "        for text, annotations in tqdm(TRAIN_DATA):\n",
    "            example = Example.from_dict(nlp.make_doc(text), annotations)\n",
    "            nlp.update(\n",
    "                [example],  \n",
    "                drop=0.5,  \n",
    "                sgd=optimizer,\n",
    "                losses=losses)\n",
    "            \n",
    "         # Hitung akurasi selama pelatihan\n",
    "        doc = nlp(text)\n",
    "        for ent in annotations[\"entities\"]:\n",
    "            start, end, label = ent\n",
    "            if (start, end, label) in [(ent.start_char, ent.end_char, ent.label_) for ent in doc.ents]:\n",
    "                correct_train_entities += 1\n",
    "            total_train_entities += 1\n",
    "        \n",
    "        accuracy_train = (correct_train_entities / total_train_entities) * 100\n",
    "        print(f\"Iterasi {itn + 1}, Train Data Accuracy: {accuracy_train:.2f}%\")\n",
    "\n",
    "        print(losses)\n"
   ]
  },
  {
   "cell_type": "code",
   "execution_count": 28,
   "id": "a9f8f713-109f-4011-8606-e6a1a4ccd845",
   "metadata": {},
   "outputs": [
    {
     "name": "stdout",
     "output_type": "stream",
     "text": [
      "Entities [('tidak sama dengan', 'Relas')]\n",
      "Tokens [('Berat', '', 'O'), ('tidak', 'Relas', 'B'), ('sama', 'Relas', 'I'), ('dengan', 'Relas', 'I'), ('100', '', 'O'), ('kg', '', 'O')]\n",
      "Entities [('lebih dari', 'Relas'), ('dan', 'Gate'), ('kurang dari', 'Relas')]\n",
      "Tokens [('Harga', '', 'O'), ('lebih', 'Relas', 'B'), ('dari', 'Relas', 'I'), ('1000', '', 'O'), ('dan', 'Gate', 'B'), ('Total', '', 'O'), ('kurang', 'Relas', 'B'), ('dari', 'Relas', 'I'), ('2000', '', 'O')]\n",
      "Entities [('sama dengan', 'Relas'), ('atau', 'Gate'), ('lebih dari', 'Relas')]\n",
      "Tokens [('Suhu', '', 'O'), ('sama', 'Relas', 'B'), ('dengan', 'Relas', 'I'), ('25', '', 'O'), ('atau', 'Gate', 'B'), ('Kelembaban', '', 'O'), ('lebih', 'Relas', 'B'), ('dari', 'Relas', 'I'), ('70', '', 'O')]\n",
      "Entities [('sama dengan', 'Relas'), ('dan', 'Gate'), ('sama dengan', 'Relas')]\n",
      "Tokens [('Username', '', 'O'), ('sama', 'Relas', 'B'), ('dengan', 'Relas', 'I'), ('benar', '', 'O'), ('dan', 'Gate', 'B'), ('Password', '', 'O'), ('sama', 'Relas', 'B'), ('dengan', 'Relas', 'I'), ('benar', '', 'O')]\n",
      "Entities [('lebih dari sama dengan', 'Relas'), ('dan', 'Gate'), ('kurang dari', 'Relas')]\n",
      "Tokens [('Rating', '', 'O'), ('lebih', 'Relas', 'B'), ('dari', 'Relas', 'I'), ('sama', 'Relas', 'I'), ('dengan', 'Relas', 'I'), ('4', '', 'O'), ('dan', 'Gate', 'B'), ('Harga', '', 'O'), ('kurang', 'Relas', 'B'), ('dari', 'Relas', 'I'), ('500', '', 'O')]\n",
      "Entities [('lebih dari', 'Relas')]\n",
      "Tokens [('Total', '', 'O'), ('Buah', '', 'O'), ('lebih', 'Relas', 'B'), ('dari', 'Relas', 'I'), ('15', '', 'O')]\n",
      "Entities [('sama dengan', 'Relas')]\n",
      "Tokens [('Cable', '', 'O'), ('Type', '', 'O'), ('sama', 'Relas', 'B'), ('dengan', 'Relas', 'I'), ('Optic', '', 'O')]\n",
      "Entities [('kurang dari', 'Relas')]\n",
      "Tokens [('Tanggal', '', 'O'), ('kurang', 'Relas', 'B'), ('dari', 'Relas', 'I'), ('17', '', 'O')]\n",
      "Entities [('sama dengan', 'Relas')]\n",
      "Tokens [('Juara', '', 'O'), ('sama', 'Relas', 'B'), ('dengan', 'Relas', 'I'), ('1', '', 'O')]\n",
      "Entities [('lebih dari sama dengan', 'Relas'), ('dan', 'Gate'), ('lebih dari', 'Relas')]\n",
      "Tokens [('Jarak', '', 'O'), ('lebih', 'Relas', 'B'), ('dari', 'Relas', 'I'), ('sama', 'Relas', 'I'), ('dengan', 'Relas', 'I'), ('300', '', 'O'), ('meter', '', 'O'), ('dan', 'Gate', 'B'), ('Kecepatan', '', 'O'), ('lebih', 'Relas', 'B'), ('dari', 'Relas', 'I'), ('25', '', 'O')]\n"
     ]
    }
   ],
   "source": [
    "for text, _ in TRAIN_DATA:\n",
    "    doc = nlp(text)\n",
    "    print('Entities', [(ent.text, ent.label_) for ent in doc.ents])\n",
    "    print('Tokens', [(t.text, t.ent_type_, t.ent_iob_) for t in doc])"
   ]
  },
  {
   "cell_type": "code",
   "execution_count": 29,
   "id": "fe083452-03c1-455d-a22e-dbb57fb6f339",
   "metadata": {},
   "outputs": [
    {
     "name": "stdout",
     "output_type": "stream",
     "text": [
      "Saved model to /home/pradeva/Documents/NER-API/MODEL\n"
     ]
    }
   ],
   "source": [
    "if output_dir is not None:\n",
    "    output_dir = Path(output_dir)\n",
    "    if not output_dir.exists():\n",
    "        output_dir.mkdir()\n",
    "    nlp.to_disk(output_dir)\n",
    "    print(\"Saved model to\", output_dir)    "
   ]
  },
  {
   "cell_type": "code",
   "execution_count": 30,
   "id": "299de74f-c42d-4a1a-a8f4-df0a92894093",
   "metadata": {},
   "outputs": [
    {
     "name": "stdout",
     "output_type": "stream",
     "text": [
      "Loading from /home/pradeva/Documents/NER-API/MODEL\n",
      "Entities [('tidak sama dengan', 'Relas')]\n",
      "Entities [('lebih dari', 'Relas'), ('dan', 'Gate'), ('kurang dari', 'Relas')]\n",
      "Entities [('sama dengan', 'Relas'), ('atau', 'Gate'), ('lebih dari', 'Relas')]\n",
      "Entities [('sama dengan', 'Relas'), ('dan', 'Gate'), ('sama dengan', 'Relas')]\n",
      "Entities [('lebih dari sama dengan', 'Relas'), ('dan', 'Gate'), ('kurang dari', 'Relas')]\n",
      "Entities [('lebih dari', 'Relas')]\n",
      "Entities [('sama dengan', 'Relas')]\n",
      "Entities [('kurang dari', 'Relas')]\n",
      "Entities [('sama dengan', 'Relas')]\n",
      "Entities [('lebih dari sama dengan', 'Relas'), ('dan', 'Gate'), ('lebih dari', 'Relas')]\n"
     ]
    }
   ],
   "source": [
    "print(\"Loading from\", output_dir)\n",
    "nlp2 = spacy.load(output_dir)\n",
    "for text, _ in TRAIN_DATA:\n",
    "    doc = nlp2(text)\n",
    "    print('Entities', [(ent.text, ent.label_) for ent in doc.ents])\n",
    "    #print('Tokens', [(t.text, t.ent_type_, t.ent_iob) for t in doc])"
   ]
  },
  {
   "cell_type": "code",
   "execution_count": 10,
   "id": "e39c16f3-6a2e-4d95-8302-382e96d8cf25",
   "metadata": {},
   "outputs": [],
   "source": [
    "#TEST -----------------------------------------------------------"
   ]
  },
  {
   "cell_type": "code",
   "execution_count": 31,
   "id": "73b5c559-d025-413a-821c-8470002a3949",
   "metadata": {},
   "outputs": [
    {
     "name": "stdout",
     "output_type": "stream",
     "text": [
      "Entities [('sama dengan', 'Relas')]\n",
      "Tokens [('Total_buah', '', 'O'), ('sama', 'Relas', 'B'), ('dengan', 'Relas', 'I'), ('17', '', 'O')]\n"
     ]
    }
   ],
   "source": [
    "# Load the trained NER model\n",
    "nlp = spacy.load(output_dir)\n",
    "\n",
    "# Test text\n",
    "test_text = \"Total_buah sama dengan 17\"\n",
    "\n",
    "# Process the test text\n",
    "doc = nlp(test_text)\n",
    "\n",
    "\n",
    "# Print extracted entities\n",
    "print('Entities', [(ent.text, ent.label_) for ent in doc.ents])\n",
    "print('Tokens', [(t.text, t.ent_type_, t.ent_iob_) for t in doc])"
   ]
  },
  {
   "cell_type": "code",
   "execution_count": 32,
   "id": "e40416a8-a847-4a09-a2b5-4e78fa9e919b",
   "metadata": {},
   "outputs": [
    {
     "name": "stdout",
     "output_type": "stream",
     "text": [
      "Total_buah sama dengan 17 dan besar bola kurang dari 17\n",
      "{'entities': [(0, 10, 'Var'), (11, 22, 'Relas'), (26, 29, 'Gate'), (30, 40, 'Var'), (41, 52, 'Relas')]}\n",
      "(sama dengan, dan, kurang dari)\n",
      "sama dengan Relas\n",
      "dan Gate\n",
      "kurang dari Relas\n",
      "0 10 Var\n",
      "(0, 10, 'Var')\n",
      "11 22 Relas\n",
      "(11, 22, 'Relas')\n",
      "26 29 Gate\n",
      "(26, 29, 'Gate')\n",
      "30 40 Var\n",
      "(30, 40, 'Var')\n",
      "41 52 Relas\n",
      "(41, 52, 'Relas')\n",
      "Suara sama dengan 100 dan juara sama dengan menang\n",
      "{'entities': [(0, 5, 'Var'), (6, 17, 'Relas'), (22, 25, 'Gate'), (26, 31, 'Var'), (32, 43, 'Relas')]}\n",
      "(sama dengan, dan, sama dengan)\n",
      "sama dengan Relas\n",
      "dan Gate\n",
      "sama dengan Relas\n",
      "0 5 Var\n",
      "(0, 5, 'Var')\n",
      "6 17 Relas\n",
      "(6, 17, 'Relas')\n",
      "22 25 Gate\n",
      "(22, 25, 'Gate')\n",
      "26 31 Var\n",
      "(26, 31, 'Var')\n",
      "32 43 Relas\n",
      "(32, 43, 'Relas')\n",
      "apel kurang dari 10 dan harga_beras lebih dari 200\n",
      "{'entities': [(0, 4, 'Var'), (5, 16, 'Relas'), (20, 23, 'Gate'), (24, 35, 'Var'), (36, 46, 'Relas')]}\n",
      "(kurang dari, dan, lebih dari)\n",
      "kurang dari Relas\n",
      "dan Gate\n",
      "lebih dari Relas\n",
      "0 4 Var\n",
      "(0, 4, 'Var')\n",
      "5 16 Relas\n",
      "(5, 16, 'Relas')\n",
      "20 23 Gate\n",
      "(20, 23, 'Gate')\n",
      "24 35 Var\n",
      "(24, 35, 'Var')\n",
      "36 46 Relas\n",
      "(36, 46, 'Relas')\n",
      "Accuracy: 60.00%\n"
     ]
    }
   ],
   "source": [
    "# Data tes\n",
    "TEST_DATA = [\n",
    "    (\"Total_buah sama dengan 17 dan besar bola kurang dari 17\", {\n",
    "        \"entities\": [(0, 10, \"Var\"), (11, 22, \"Relas\"), (26, 29, \"Gate\"), (30, 40, \"Var\"), (41, 52, \"Relas\")]\n",
    "    }),\n",
    "    (\"Suara sama dengan 100 dan juara sama dengan menang\", {\n",
    "        \"entities\": [(0, 5, \"Var\"), (6, 17, \"Relas\"), (22, 25, \"Gate\"), (26, 31, \"Var\"), (32, 43, \"Relas\")]\n",
    "    }),\n",
    "    (\"apel kurang dari 10 dan harga_beras lebih dari 200\", {\n",
    "        \"entities\": [(0, 4, \"Var\"), (5, 16, \"Relas\"), (20, 23, \"Gate\"), (24, 35, \"Var\"), (36, 46, \"Relas\")]\n",
    "    })\n",
    "    # Tambahkan data tes lainnya sesuai kebutuhan\n",
    "]\n",
    "\n",
    "correct_entities = 0  # Untuk menghitung entitas yang diidentifikasi dengan benar\n",
    "total_entities = 0   # Untuk menghitung total entitas sebenarnya\n",
    "\n",
    "for text, annotations in TEST_DATA:\n",
    "    print(text)\n",
    "    print(annotations)\n",
    "    doc = nlp(text)  # Proses data tes dengan model\n",
    "    print(doc.ents)\n",
    "\n",
    "    for ent in doc.ents:\n",
    "        print(ent.text, ent.label_)\n",
    "    \n",
    "    for ent in annotations[\"entities\"]:\n",
    "        start, end, label = ent\n",
    "        if (start, end, label) in [(ent.start_char, ent.end_char, ent.label_) for ent in doc.ents]:\n",
    "            correct_entities += 1\n",
    "        print(start, end, label)\n",
    "        print(ent)\n",
    "        total_entities += 1\n",
    "\n",
    "accuracy = (correct_entities / total_entities) * 100\n",
    "print(f\"Accuracy: {accuracy:.2f}%\")"
   ]
  }
 ],
 "metadata": {
  "kernelspec": {
   "display_name": "Python 3 (ipykernel)",
   "language": "python",
   "name": "python3"
  },
  "language_info": {
   "codemirror_mode": {
    "name": "ipython",
    "version": 3
   },
   "file_extension": ".py",
   "mimetype": "text/x-python",
   "name": "python",
   "nbconvert_exporter": "python",
   "pygments_lexer": "ipython3",
   "version": "3.8.10"
  }
 },
 "nbformat": 4,
 "nbformat_minor": 5
}
