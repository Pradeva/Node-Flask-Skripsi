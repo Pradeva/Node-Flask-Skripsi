{
 "cells": [
  {
   "cell_type": "code",
   "execution_count": 1,
   "id": "841cda1f-022e-47af-8750-74650743088b",
   "metadata": {},
   "outputs": [],
   "source": [
    "from __future__ import unicode_literals, print_function\n",
    "import plac\n",
    "import random\n",
    "from pathlib import Path\n",
    "import spacy\n",
    "from tqdm import tqdm "
   ]
  },
  {
   "cell_type": "code",
   "execution_count": 2,
   "id": "fff13ba1-a3f3-41f1-a482-67dfac3c4fb5",
   "metadata": {},
   "outputs": [],
   "source": [
    "# Var : Variable\n",
    "# Relas : Relational (sama dengan,tidak sama dengan,lebih dari, kurang dari, lebih dari sama dengan, kurang dari sama dengan)\n",
    "# Gate : Logical Gate\n",
    "\n",
    "TRAIN_DATA = [\n",
    "    ('Total Buah lebih dari 15', { #lebih dari\n",
    "        'entities': [(11, 21, 'Relas')]\n",
    "    }),\n",
    "     ('Cable Type sama dengan Optic', { #sama dengan\n",
    "        'entities': [(11, 22, 'Relas')]\n",
    "    }),\n",
    "    ('Tanggal kurang dari 17', { #kurang dari\n",
    "        'entities': [(8, 19, 'Relas')]\n",
    "    }),\n",
    "    ('Username sama dengan benar dan Password sama dengan benar', { #sama dengan, dan, sama dengan\n",
    "        'entities': [(9, 20, 'Relas'), (27, 30, 'Gate'), (40, 51, 'Relas')]\n",
    "    }),\n",
    "    ('Harga lebih dari 1000 dan Total kurang dari 2000', {\n",
    "        'entities': [(6, 16, 'Relas'), (22, 25, 'Gate'), (32, 43, 'Relas')] #lebih dari, dan, kurang dari\n",
    "    }),\n",
    "    ('Rating lebih dari sama dengan 4 dan Harga kurang dari 500', { #lebih dari sama dengan, dan, kurang dari\n",
    "        'entities': [(7, 29, 'Relas'), (32, 35, 'Gate'), (42, 53, 'Relas')]\n",
    "    }),\n",
    "    ('Suhu sama dengan 25 atau Kelembaban lebih dari 70', { #sama dengan, atau, lebih dari\n",
    "        'entities': [(5, 16, 'Relas'), (20, 24, 'Gate'), (36, 46, 'Relas')]\n",
    "    }),\n",
    "    ('Juara sama dengan 1', { #sama dengan\n",
    "        'entities': [(6, 17, 'Relas')]\n",
    "    }),\n",
    "    ('Jarak lebih dari sama dengan 300 meter dan Kecepatan lebih dari 25', { #lebih dari sama dengan, dan, lebih dari\n",
    "        'entities': [(6, 28, 'Relas'), (39, 42, 'Gate'), (53, 63, 'Relas')]\n",
    "    }),\n",
    "    ('Berat tidak sama dengan 100 kg', { #tidak sama dengan\n",
    "        'entities': [(6, 23, 'Relas')]\n",
    "    }),\n",
    "    ('Berat roda lebih dari sama dengan 100 kg dan bobot kendaraan kurang dari 1 ton', { #lebih dari sama dengan, dan, kurang dari\n",
    "        'entities': [(11, 33, 'Relas'), (41, 44, 'Gate'), (61, 72, 'Relas')]\n",
    "    }),\n",
    "    ('Harga apel tidak sama dengan harga jeruk',{\n",
    "        'entities': [(11, 28, 'Relas')]\n",
    "    }),\n",
    "    ('Rata-rata usia lebih dari sama dengan 25 tahun',{\n",
    "        'entities': [(15, 37, 'Relas')]\n",
    "    }),\n",
    "    ('Jumlah buku lebih dari 10 ribu dan jenis buku sama dengan novel',{\n",
    "        'entities': [(12, 22, 'Relas'), (31, 34, 'Gate'), (46, 57, 'Relas')]\n",
    "    }),\n",
    "    ('Tinggi pohon lebih dari 3 meter dan jumlah cabang sama dengan 20',{\n",
    "        'entities': [(13, 23, 'Relas'), (32, 35, 'Gate'), (50, 61, 'Relas')]\n",
    "    }),\n",
    "    ('Harga tiket masuk kurang dari 50 ribu rupiah atau anak-anak lebih dari sama dengan 5 tahun',{\n",
    "        'entities': [(18, 29, 'Relas'), (45, 49, 'Gate'), (60, 82, 'Relas')]\n",
    "    }),\n",
    "    ('Jarak tempuh kurang dari sama dengan 10 kilometer dan waktu tempuh kurang dari 30 menit',{\n",
    "        'entities': [(13, 36, 'Relas'), (50, 57, 'Gate'), (67, 78, 'Relas')]\n",
    "    }),\n",
    "    ('Suhu pegunungan kurang dari 15 derajat Celsius atau cuaca sama dengan bersalju dan suhu kurang dari 0 derajat Celsius',{\n",
    "        'entities': [(16, 27, 'Relas'), (47, 52, 'Gate'), (58, 69, 'Relas'), (79, 82, 'Gate'), (88, 96, 'Relas')] \n",
    "    }),\n",
    "    ('Jumlah penonton lebih dari 5000 atau tiket VIP kurang dari sama dengan 100',{\n",
    "        'entities': [(16, 28, 'Relas'), (32, 36, 'Gate'), (47, 70, 'Relas')]\n",
    "    }),\n",
    "    ('Cuaca hari ini tidak sama dengan kemarin',{\n",
    "        'entities': [(15, 32, 'Relas')]\n",
    "    }),\n",
    "    ('Jumlah penumpang sama dengan 40 orang',{\n",
    "        'entities': [(17, 28, 'Relas')]\n",
    "    }),\n",
    "    ('Jumlah pohon lebih dari sama dengan 200 dan jenisnya tidak sama dengan pohon cemara',{\n",
    "        'entities': [(13, 35, 'Relas'), (40, 43, 'Gate'), (53, 70, 'Relas')]\n",
    "    }),\n",
    "    ('Suhu air lebih dari sama dengan 25 derajat Celsius dan suhu ruangan kurang dari 30 derajat Celsius',{\n",
    "        'entities': [(9, 31, 'Relas'), (51, 54, 'Gate'), (68, 79, 'Relas')]\n",
    "    }),\n",
    "    ('Harga minyak goreng kurang dari 20 ribu rupiah dan harga telur lebih dari 15 ribu rupiah',{\n",
    "        'entities': [(20, 31, 'Relas'), (47, 50, 'Gate'), (63, 73, 'Relas')]\n",
    "    }),\n",
    "    ('Harga set alat masak sama dengan 150 ribu',{\n",
    "        'entities': [(21, 32, 'Relas')]\n",
    "    }),\n",
    "    ('Jumlah kursi sama dengan 50 dan kapasitas lebih dari 100 orang',{\n",
    "        'entities': [(13, 24, 'Relas'), (28, 31, 'Gate'), (42, 52, 'Relas')]\n",
    "    }),\n",
    "    ('Harga kue kurang dari 10 ribu rupiah dan harga krim lebih dari 5 ribu rupiah',{\n",
    "        'entities': [(10, 21, 'Relas'), (37, 40, 'Gate'), (52, 62, 'Relas')]\n",
    "    }),\n",
    "    ('Jarak tempuh lebih dari 100 kilometer',{\n",
    "        'entities': [(13, 23, 'Relas')]\n",
    "    }),\n",
    "    ('Jumlah penumpang sama dengan 80 orang dan jumlah kursi kosong lebih dari 10',{\n",
    "        'entities': [(17, 28, 'Relas'), (38, 41, 'Gate'), (62, 72, 'Relas')]\n",
    "    }),\n",
    "    ('Kapasitas RAM sama dengan 8 gigabyte',{\n",
    "        'entities': [(14, 25, 'Relas')]\n",
    "    }),\n",
    "    ('Jumlah aplikasi sama dengan 50',{\n",
    "        'entities': [(16, 27, 'Relas')]\n",
    "    }),\n",
    "    ('Kecepatan prosesor lebih dari 2.5 GHz dan jumlah memori RAM kurang dari 8 gigabyte',{\n",
    "        'entities': [(19, 29, 'Relas'), (38, 41, 'Gate'), (60, 72, 'Relas')]\n",
    "    }),\n",
    "    ('Jumlah inti prosesor lebih dari 4 dan kecepatan clock kurang dari 2.0 GHz',{\n",
    "        'entities': [(21, 31, 'Relas'), (34, 37, 'Gate'), (54, 65, 'Relas')]\n",
    "    }),\n",
    "    ('Kecepatan internet lebih dari 100 Mbps dan jumlah perangkat kurang dari 5',{\n",
    "        'entities': [(19, 29, 'Relas'), (39, 42, 'Gate'), (60, 71, 'Relas')]\n",
    "    }),\n",
    "    ('Resolusi layar lebih dari 3840 x 2160 pixel dan refresh rate kurang dari 120 Hz',{\n",
    "        'entities': [(15, 25, 'Relas'), (44, 47, 'Gate'), (61, 72, 'Relas')]\n",
    "    }),\n",
    "    ('Usia baterai lebih dari sama dengan 5 tahun dan waktu pengisian daya kurang dari 2 jam',{\n",
    "        'entities': [(13, 35, 'Relas'), (44, 47, 'Gate'), (69, 80, 'Relas')]\n",
    "    }),\n",
    "    ('Kecepatan transfer data ini lebih dari 100 MBps dan kapasitas penyimpanan kurang dari 64 gigabyte',{\n",
    "        'entities': [(28, 38, 'Relas'), (48, 51, 'Gate'), (74, 85, 'Relas')]\n",
    "    }),\n",
    "\n",
    "]"
   ]
  },
  {
   "cell_type": "code",
   "execution_count": 3,
   "id": "37e7f430-626a-4292-ab7b-3d0c2054c338",
   "metadata": {},
   "outputs": [],
   "source": [
    "model = None\n",
    "output_dir=Path(r\"C:\\Users\\prade\\OneDrive\\Documents\\Materi Kuliah\\Sitasi Proposal\\FINAL PROPOSAL\\Node-Flask-Api\\MODEL\")\n",
    "n_iter=100"
   ]
  },
  {
   "cell_type": "code",
   "execution_count": 4,
   "id": "b14adf6b-6d2e-4b8b-953a-1a44dced5299",
   "metadata": {},
   "outputs": [
    {
     "name": "stdout",
     "output_type": "stream",
     "text": [
      "Created blank 'en' model\n"
     ]
    }
   ],
   "source": [
    "if model is not None:\n",
    "    nlp = spacy.load(model)  \n",
    "    print(\"Loaded model '%s'\" % model)\n",
    "else:\n",
    "    nlp = spacy.blank('en')  \n",
    "    print(\"Created blank 'en' model\")"
   ]
  },
  {
   "cell_type": "code",
   "execution_count": 5,
   "id": "53c78df5-d2e5-4283-905a-ebde2eaca8cc",
   "metadata": {},
   "outputs": [
    {
     "data": {
      "text/plain": [
       "<spacy.pipeline.ner.EntityRecognizer at 0x2bacfcdd700>"
      ]
     },
     "execution_count": 5,
     "metadata": {},
     "output_type": "execute_result"
    }
   ],
   "source": [
    "if 'ner' not in nlp.pipe_names:\n",
    "    ner = nlp.create_pipe('ner')\n",
    "    nlp.add_pipe('ner', last=True)\n",
    "else:\n",
    "    ner = nlp.get_pipe('ner')\n",
    "\n",
    "ner"
   ]
  },
  {
   "cell_type": "code",
   "execution_count": 6,
   "id": "50eb21c1-cd8a-4fb6-b2c5-61950ecf50b0",
   "metadata": {},
   "outputs": [
    {
     "name": "stderr",
     "output_type": "stream",
     "text": [
      " 32%|███▏      | 12/37 [00:00<00:00, 34.76it/s]c:\\Users\\prade\\AppData\\Local\\Programs\\Python\\Python311\\Lib\\site-packages\\spacy\\training\\iob_utils.py:149: UserWarning: [W030] Some entities could not be aligned in the text \"Jumlah penonton lebih dari 5000 atau tiket VIP kur...\" with entities \"[(16, 28, 'Relas'), (32, 36, 'Gate'), (47, 70, 'Re...\". Use `spacy.training.offsets_to_biluo_tags(nlp.make_doc(text), entities)` to check the alignment. Misaligned entities ('-') will be ignored during training.\n",
      "  warnings.warn(\n",
      " 43%|████▎     | 16/37 [00:00<00:00, 34.13it/s]c:\\Users\\prade\\AppData\\Local\\Programs\\Python\\Python311\\Lib\\site-packages\\spacy\\training\\iob_utils.py:149: UserWarning: [W030] Some entities could not be aligned in the text \"Kecepatan prosesor lebih dari 2.5 GHz dan jumlah m...\" with entities \"[(19, 29, 'Relas'), (38, 41, 'Gate'), (60, 72, 'Re...\". Use `spacy.training.offsets_to_biluo_tags(nlp.make_doc(text), entities)` to check the alignment. Misaligned entities ('-') will be ignored during training.\n",
      "  warnings.warn(\n",
      "c:\\Users\\prade\\AppData\\Local\\Programs\\Python\\Python311\\Lib\\site-packages\\spacy\\training\\iob_utils.py:149: UserWarning: [W030] Some entities could not be aligned in the text \"Jarak tempuh kurang dari sama dengan 10 kilometer ...\" with entities \"[(13, 36, 'Relas'), (50, 57, 'Gate'), (67, 78, 'Re...\". Use `spacy.training.offsets_to_biluo_tags(nlp.make_doc(text), entities)` to check the alignment. Misaligned entities ('-') will be ignored during training.\n",
      "  warnings.warn(\n",
      " 76%|███████▌  | 28/37 [00:00<00:00, 32.31it/s]c:\\Users\\prade\\AppData\\Local\\Programs\\Python\\Python311\\Lib\\site-packages\\spacy\\training\\iob_utils.py:149: UserWarning: [W030] Some entities could not be aligned in the text \"Suhu pegunungan kurang dari 15 derajat Celsius ata...\" with entities \"[(16, 27, 'Relas'), (47, 52, 'Gate'), (58, 69, 'Re...\". Use `spacy.training.offsets_to_biluo_tags(nlp.make_doc(text), entities)` to check the alignment. Misaligned entities ('-') will be ignored during training.\n",
      "  warnings.warn(\n",
      "100%|██████████| 37/37 [00:01<00:00, 31.91it/s]\n"
     ]
    },
    {
     "name": "stdout",
     "output_type": "stream",
     "text": [
      "Iterasi 1, Train Data Accuracy: 0.00%\n",
      "{'ner': 193.97431032291934}\n"
     ]
    },
    {
     "name": "stderr",
     "output_type": "stream",
     "text": [
      "100%|██████████| 37/37 [00:01<00:00, 31.83it/s]\n"
     ]
    },
    {
     "name": "stdout",
     "output_type": "stream",
     "text": [
      "Iterasi 2, Train Data Accuracy: 50.00%\n",
      "{'ner': 141.81173006436603}\n"
     ]
    },
    {
     "name": "stderr",
     "output_type": "stream",
     "text": [
      "100%|██████████| 37/37 [00:01<00:00, 35.00it/s]\n"
     ]
    },
    {
     "name": "stdout",
     "output_type": "stream",
     "text": [
      "Iterasi 3, Train Data Accuracy: 44.44%\n",
      "{'ner': 79.50430146615325}\n"
     ]
    },
    {
     "name": "stderr",
     "output_type": "stream",
     "text": [
      "100%|██████████| 37/37 [00:01<00:00, 32.37it/s]\n"
     ]
    },
    {
     "name": "stdout",
     "output_type": "stream",
     "text": [
      "Iterasi 4, Train Data Accuracy: 40.00%\n",
      "{'ner': 54.58479363046381}\n"
     ]
    },
    {
     "name": "stderr",
     "output_type": "stream",
     "text": [
      "100%|██████████| 37/37 [00:01<00:00, 34.61it/s]\n"
     ]
    },
    {
     "name": "stdout",
     "output_type": "stream",
     "text": [
      "Iterasi 5, Train Data Accuracy: 45.45%\n",
      "{'ner': 44.23145512340526}\n"
     ]
    },
    {
     "name": "stderr",
     "output_type": "stream",
     "text": [
      "100%|██████████| 37/37 [00:01<00:00, 35.89it/s]\n"
     ]
    },
    {
     "name": "stdout",
     "output_type": "stream",
     "text": [
      "Iterasi 6, Train Data Accuracy: 42.86%\n",
      "{'ner': 38.64501361867204}\n"
     ]
    },
    {
     "name": "stderr",
     "output_type": "stream",
     "text": [
      "100%|██████████| 37/37 [00:01<00:00, 36.01it/s]\n"
     ]
    },
    {
     "name": "stdout",
     "output_type": "stream",
     "text": [
      "Iterasi 7, Train Data Accuracy: 52.94%\n",
      "{'ner': 35.38614322949989}\n"
     ]
    },
    {
     "name": "stderr",
     "output_type": "stream",
     "text": [
      "100%|██████████| 37/37 [00:01<00:00, 35.39it/s]\n"
     ]
    },
    {
     "name": "stdout",
     "output_type": "stream",
     "text": [
      "Iterasi 8, Train Data Accuracy: 55.56%\n",
      "{'ner': 20.243548141245864}\n"
     ]
    },
    {
     "name": "stderr",
     "output_type": "stream",
     "text": [
      "100%|██████████| 37/37 [00:01<00:00, 33.82it/s]\n"
     ]
    },
    {
     "name": "stdout",
     "output_type": "stream",
     "text": [
      "Iterasi 9, Train Data Accuracy: 61.90%\n",
      "{'ner': 20.8957288943223}\n"
     ]
    },
    {
     "name": "stderr",
     "output_type": "stream",
     "text": [
      "100%|██████████| 37/37 [00:01<00:00, 34.51it/s]\n"
     ]
    },
    {
     "name": "stdout",
     "output_type": "stream",
     "text": [
      "Iterasi 10, Train Data Accuracy: 66.67%\n",
      "{'ner': 13.231864189916529}\n"
     ]
    },
    {
     "name": "stderr",
     "output_type": "stream",
     "text": [
      "100%|██████████| 37/37 [00:01<00:00, 36.29it/s]\n"
     ]
    },
    {
     "name": "stdout",
     "output_type": "stream",
     "text": [
      "Iterasi 11, Train Data Accuracy: 70.37%\n",
      "{'ner': 12.76690912825268}\n"
     ]
    },
    {
     "name": "stderr",
     "output_type": "stream",
     "text": [
      "100%|██████████| 37/37 [00:01<00:00, 31.98it/s]\n"
     ]
    },
    {
     "name": "stdout",
     "output_type": "stream",
     "text": [
      "Iterasi 12, Train Data Accuracy: 71.43%\n",
      "{'ner': 8.099119801580978}\n"
     ]
    },
    {
     "name": "stderr",
     "output_type": "stream",
     "text": [
      "100%|██████████| 37/37 [00:01<00:00, 30.94it/s]\n"
     ]
    },
    {
     "name": "stdout",
     "output_type": "stream",
     "text": [
      "Iterasi 13, Train Data Accuracy: 74.19%\n",
      "{'ner': 3.7651990987379977}\n"
     ]
    },
    {
     "name": "stderr",
     "output_type": "stream",
     "text": [
      "100%|██████████| 37/37 [00:01<00:00, 29.89it/s]\n"
     ]
    },
    {
     "name": "stdout",
     "output_type": "stream",
     "text": [
      "Iterasi 14, Train Data Accuracy: 76.47%\n",
      "{'ner': 0.13442057957759332}\n"
     ]
    },
    {
     "name": "stderr",
     "output_type": "stream",
     "text": [
      "100%|██████████| 37/37 [00:01<00:00, 32.28it/s]\n"
     ]
    },
    {
     "name": "stdout",
     "output_type": "stream",
     "text": [
      "Iterasi 15, Train Data Accuracy: 74.36%\n",
      "{'ner': 9.363666540515124}\n"
     ]
    },
    {
     "name": "stderr",
     "output_type": "stream",
     "text": [
      "100%|██████████| 37/37 [00:01<00:00, 36.25it/s]\n"
     ]
    },
    {
     "name": "stdout",
     "output_type": "stream",
     "text": [
      "Iterasi 16, Train Data Accuracy: 72.73%\n",
      "{'ner': 5.197551784668897}\n"
     ]
    },
    {
     "name": "stderr",
     "output_type": "stream",
     "text": [
      "100%|██████████| 37/37 [00:01<00:00, 35.95it/s]\n"
     ]
    },
    {
     "name": "stdout",
     "output_type": "stream",
     "text": [
      "Iterasi 17, Train Data Accuracy: 74.47%\n",
      "{'ner': 1.6553216607830274}\n"
     ]
    },
    {
     "name": "stderr",
     "output_type": "stream",
     "text": [
      "100%|██████████| 37/37 [00:01<00:00, 36.16it/s]\n"
     ]
    },
    {
     "name": "stdout",
     "output_type": "stream",
     "text": [
      "Iterasi 18, Train Data Accuracy: 76.00%\n",
      "{'ner': 3.3459209130972587}\n"
     ]
    },
    {
     "name": "stderr",
     "output_type": "stream",
     "text": [
      "100%|██████████| 37/37 [00:01<00:00, 32.98it/s]\n"
     ]
    },
    {
     "name": "stdout",
     "output_type": "stream",
     "text": [
      "Iterasi 19, Train Data Accuracy: 75.47%\n",
      "{'ner': 3.3391629834238112}\n"
     ]
    },
    {
     "name": "stderr",
     "output_type": "stream",
     "text": [
      "100%|██████████| 37/37 [00:01<00:00, 34.80it/s]\n"
     ]
    },
    {
     "name": "stdout",
     "output_type": "stream",
     "text": [
      "Iterasi 20, Train Data Accuracy: 76.79%\n",
      "{'ner': 0.0005301158900688877}\n"
     ]
    },
    {
     "name": "stderr",
     "output_type": "stream",
     "text": [
      "100%|██████████| 37/37 [00:01<00:00, 36.14it/s]\n"
     ]
    },
    {
     "name": "stdout",
     "output_type": "stream",
     "text": [
      "Iterasi 21, Train Data Accuracy: 77.19%\n",
      "{'ner': 6.328869977230566}\n"
     ]
    },
    {
     "name": "stderr",
     "output_type": "stream",
     "text": [
      "100%|██████████| 37/37 [00:01<00:00, 36.13it/s]\n"
     ]
    },
    {
     "name": "stdout",
     "output_type": "stream",
     "text": [
      "Iterasi 22, Train Data Accuracy: 76.67%\n",
      "{'ner': 2.592781907942028}\n"
     ]
    },
    {
     "name": "stderr",
     "output_type": "stream",
     "text": [
      "100%|██████████| 37/37 [00:01<00:00, 35.91it/s]\n"
     ]
    },
    {
     "name": "stdout",
     "output_type": "stream",
     "text": [
      "Iterasi 23, Train Data Accuracy: 77.78%\n",
      "{'ner': 1.849666812033216}\n"
     ]
    },
    {
     "name": "stderr",
     "output_type": "stream",
     "text": [
      "100%|██████████| 37/37 [00:01<00:00, 35.13it/s]\n"
     ]
    },
    {
     "name": "stdout",
     "output_type": "stream",
     "text": [
      "Iterasi 24, Train Data Accuracy: 78.79%\n",
      "{'ner': 0.07596752412363049}\n"
     ]
    },
    {
     "name": "stderr",
     "output_type": "stream",
     "text": [
      "100%|██████████| 37/37 [00:01<00:00, 34.57it/s]\n"
     ]
    },
    {
     "name": "stdout",
     "output_type": "stream",
     "text": [
      "Iterasi 25, Train Data Accuracy: 79.71%\n",
      "{'ner': 3.9320973349887858}\n"
     ]
    },
    {
     "name": "stderr",
     "output_type": "stream",
     "text": [
      "100%|██████████| 37/37 [00:01<00:00, 34.74it/s]\n"
     ]
    },
    {
     "name": "stdout",
     "output_type": "stream",
     "text": [
      "Iterasi 26, Train Data Accuracy: 80.56%\n",
      "{'ner': 0.10008819957025039}\n"
     ]
    },
    {
     "name": "stderr",
     "output_type": "stream",
     "text": [
      "100%|██████████| 37/37 [00:01<00:00, 35.78it/s]\n"
     ]
    },
    {
     "name": "stdout",
     "output_type": "stream",
     "text": [
      "Iterasi 27, Train Data Accuracy: 81.33%\n",
      "{'ner': 1.9511873364682775}\n"
     ]
    },
    {
     "name": "stderr",
     "output_type": "stream",
     "text": [
      "100%|██████████| 37/37 [00:01<00:00, 35.78it/s]\n"
     ]
    },
    {
     "name": "stdout",
     "output_type": "stream",
     "text": [
      "Iterasi 28, Train Data Accuracy: 80.00%\n",
      "{'ner': 3.9269451677205067}\n"
     ]
    },
    {
     "name": "stderr",
     "output_type": "stream",
     "text": [
      "100%|██████████| 37/37 [00:01<00:00, 35.74it/s]\n"
     ]
    },
    {
     "name": "stdout",
     "output_type": "stream",
     "text": [
      "Iterasi 29, Train Data Accuracy: 80.72%\n",
      "{'ner': 0.006004502939977055}\n"
     ]
    },
    {
     "name": "stderr",
     "output_type": "stream",
     "text": [
      "100%|██████████| 37/37 [00:01<00:00, 34.41it/s]\n"
     ]
    },
    {
     "name": "stdout",
     "output_type": "stream",
     "text": [
      "Iterasi 30, Train Data Accuracy: 81.40%\n",
      "{'ner': 3.9175216330312668}\n"
     ]
    },
    {
     "name": "stderr",
     "output_type": "stream",
     "text": [
      "100%|██████████| 37/37 [00:01<00:00, 34.86it/s]\n"
     ]
    },
    {
     "name": "stdout",
     "output_type": "stream",
     "text": [
      "Iterasi 31, Train Data Accuracy: 81.61%\n",
      "{'ner': 8.219147209658855}\n"
     ]
    },
    {
     "name": "stderr",
     "output_type": "stream",
     "text": [
      "100%|██████████| 37/37 [00:01<00:00, 36.22it/s]\n"
     ]
    },
    {
     "name": "stdout",
     "output_type": "stream",
     "text": [
      "Iterasi 32, Train Data Accuracy: 81.11%\n",
      "{'ner': 2.659090678620987}\n"
     ]
    },
    {
     "name": "stderr",
     "output_type": "stream",
     "text": [
      "100%|██████████| 37/37 [00:01<00:00, 36.27it/s]\n"
     ]
    },
    {
     "name": "stdout",
     "output_type": "stream",
     "text": [
      "Iterasi 33, Train Data Accuracy: 81.72%\n",
      "{'ner': 1.4579916343541393}\n"
     ]
    },
    {
     "name": "stderr",
     "output_type": "stream",
     "text": [
      "100%|██████████| 37/37 [00:01<00:00, 35.78it/s]\n"
     ]
    },
    {
     "name": "stdout",
     "output_type": "stream",
     "text": [
      "Iterasi 34, Train Data Accuracy: 81.91%\n",
      "{'ner': 0.020075637260948374}\n"
     ]
    },
    {
     "name": "stderr",
     "output_type": "stream",
     "text": [
      "100%|██████████| 37/37 [00:01<00:00, 35.02it/s]\n"
     ]
    },
    {
     "name": "stdout",
     "output_type": "stream",
     "text": [
      "Iterasi 35, Train Data Accuracy: 82.47%\n",
      "{'ner': 0.01688756917537982}\n"
     ]
    },
    {
     "name": "stderr",
     "output_type": "stream",
     "text": [
      "100%|██████████| 37/37 [00:01<00:00, 34.61it/s]\n"
     ]
    },
    {
     "name": "stdout",
     "output_type": "stream",
     "text": [
      "Iterasi 36, Train Data Accuracy: 83.00%\n",
      "{'ner': 7.269195919597281e-05}\n"
     ]
    },
    {
     "name": "stderr",
     "output_type": "stream",
     "text": [
      "100%|██████████| 37/37 [00:01<00:00, 36.05it/s]\n"
     ]
    },
    {
     "name": "stdout",
     "output_type": "stream",
     "text": [
      "Iterasi 37, Train Data Accuracy: 82.52%\n",
      "{'ner': 0.00017586917305499977}\n"
     ]
    },
    {
     "name": "stderr",
     "output_type": "stream",
     "text": [
      "100%|██████████| 37/37 [00:01<00:00, 35.92it/s]\n"
     ]
    },
    {
     "name": "stdout",
     "output_type": "stream",
     "text": [
      "Iterasi 38, Train Data Accuracy: 83.02%\n",
      "{'ner': 8.329598259409554e-08}\n"
     ]
    },
    {
     "name": "stderr",
     "output_type": "stream",
     "text": [
      "100%|██████████| 37/37 [00:01<00:00, 36.10it/s]\n"
     ]
    },
    {
     "name": "stdout",
     "output_type": "stream",
     "text": [
      "Iterasi 39, Train Data Accuracy: 83.49%\n",
      "{'ner': 5.680312873668463e-05}\n"
     ]
    },
    {
     "name": "stderr",
     "output_type": "stream",
     "text": [
      "100%|██████████| 37/37 [00:01<00:00, 35.64it/s]\n"
     ]
    },
    {
     "name": "stdout",
     "output_type": "stream",
     "text": [
      "Iterasi 40, Train Data Accuracy: 83.93%\n",
      "{'ner': 0.09381383910026124}\n"
     ]
    },
    {
     "name": "stderr",
     "output_type": "stream",
     "text": [
      "100%|██████████| 37/37 [00:01<00:00, 34.29it/s]\n"
     ]
    },
    {
     "name": "stdout",
     "output_type": "stream",
     "text": [
      "Iterasi 41, Train Data Accuracy: 84.07%\n",
      "{'ner': 0.7033385215158569}\n"
     ]
    },
    {
     "name": "stderr",
     "output_type": "stream",
     "text": [
      "100%|██████████| 37/37 [00:01<00:00, 35.14it/s]\n"
     ]
    },
    {
     "name": "stdout",
     "output_type": "stream",
     "text": [
      "Iterasi 42, Train Data Accuracy: 84.48%\n",
      "{'ner': 2.7260695937660824}\n"
     ]
    },
    {
     "name": "stderr",
     "output_type": "stream",
     "text": [
      "100%|██████████| 37/37 [00:01<00:00, 35.71it/s]\n"
     ]
    },
    {
     "name": "stdout",
     "output_type": "stream",
     "text": [
      "Iterasi 43, Train Data Accuracy: 84.87%\n",
      "{'ner': 3.26204312614926e-05}\n"
     ]
    },
    {
     "name": "stderr",
     "output_type": "stream",
     "text": [
      "100%|██████████| 37/37 [00:01<00:00, 36.04it/s]\n"
     ]
    },
    {
     "name": "stdout",
     "output_type": "stream",
     "text": [
      "Iterasi 44, Train Data Accuracy: 85.25%\n",
      "{'ner': 5.5484751855198535}\n"
     ]
    },
    {
     "name": "stderr",
     "output_type": "stream",
     "text": [
      "100%|██████████| 37/37 [00:01<00:00, 35.39it/s]\n"
     ]
    },
    {
     "name": "stdout",
     "output_type": "stream",
     "text": [
      "Iterasi 45, Train Data Accuracy: 85.37%\n",
      "{'ner': 0.021884046021826184}\n"
     ]
    },
    {
     "name": "stderr",
     "output_type": "stream",
     "text": [
      "100%|██████████| 37/37 [00:01<00:00, 34.48it/s]\n"
     ]
    },
    {
     "name": "stdout",
     "output_type": "stream",
     "text": [
      "Iterasi 46, Train Data Accuracy: 85.71%\n",
      "{'ner': 1.0824699102254718}\n"
     ]
    },
    {
     "name": "stderr",
     "output_type": "stream",
     "text": [
      "100%|██████████| 37/37 [00:01<00:00, 35.28it/s]\n"
     ]
    },
    {
     "name": "stdout",
     "output_type": "stream",
     "text": [
      "Iterasi 47, Train Data Accuracy: 86.05%\n",
      "{'ner': 2.584641665489939}\n"
     ]
    },
    {
     "name": "stderr",
     "output_type": "stream",
     "text": [
      "100%|██████████| 37/37 [00:01<00:00, 35.73it/s]\n"
     ]
    },
    {
     "name": "stdout",
     "output_type": "stream",
     "text": [
      "Iterasi 48, Train Data Accuracy: 86.36%\n",
      "{'ner': 2.298683876439531e-06}\n"
     ]
    },
    {
     "name": "stderr",
     "output_type": "stream",
     "text": [
      "100%|██████████| 37/37 [00:01<00:00, 34.73it/s]\n"
     ]
    },
    {
     "name": "stdout",
     "output_type": "stream",
     "text": [
      "Iterasi 49, Train Data Accuracy: 86.67%\n",
      "{'ner': 1.8001800910627266}\n"
     ]
    },
    {
     "name": "stderr",
     "output_type": "stream",
     "text": [
      "100%|██████████| 37/37 [00:01<00:00, 35.66it/s]\n"
     ]
    },
    {
     "name": "stdout",
     "output_type": "stream",
     "text": [
      "Iterasi 50, Train Data Accuracy: 86.96%\n",
      "{'ner': 1.002750730498198}\n"
     ]
    },
    {
     "name": "stderr",
     "output_type": "stream",
     "text": [
      "100%|██████████| 37/37 [00:01<00:00, 34.79it/s]\n"
     ]
    },
    {
     "name": "stdout",
     "output_type": "stream",
     "text": [
      "Iterasi 51, Train Data Accuracy: 87.23%\n",
      "{'ner': 0.4924145014839143}\n"
     ]
    },
    {
     "name": "stderr",
     "output_type": "stream",
     "text": [
      "100%|██████████| 37/37 [00:01<00:00, 34.67it/s]\n"
     ]
    },
    {
     "name": "stdout",
     "output_type": "stream",
     "text": [
      "Iterasi 52, Train Data Accuracy: 87.50%\n",
      "{'ner': 3.5991343482403186}\n"
     ]
    },
    {
     "name": "stderr",
     "output_type": "stream",
     "text": [
      "100%|██████████| 37/37 [00:01<00:00, 34.74it/s]\n"
     ]
    },
    {
     "name": "stdout",
     "output_type": "stream",
     "text": [
      "Iterasi 53, Train Data Accuracy: 87.76%\n",
      "{'ner': 3.8194603569202066}\n"
     ]
    },
    {
     "name": "stderr",
     "output_type": "stream",
     "text": [
      "100%|██████████| 37/37 [00:01<00:00, 35.27it/s]\n"
     ]
    },
    {
     "name": "stdout",
     "output_type": "stream",
     "text": [
      "Iterasi 54, Train Data Accuracy: 87.84%\n",
      "{'ner': 0.0003586229386779551}\n"
     ]
    },
    {
     "name": "stderr",
     "output_type": "stream",
     "text": [
      "100%|██████████| 37/37 [00:01<00:00, 35.63it/s]\n"
     ]
    },
    {
     "name": "stdout",
     "output_type": "stream",
     "text": [
      "Iterasi 55, Train Data Accuracy: 88.08%\n",
      "{'ner': 0.6922828600477259}\n"
     ]
    },
    {
     "name": "stderr",
     "output_type": "stream",
     "text": [
      "100%|██████████| 37/37 [00:01<00:00, 35.45it/s]\n"
     ]
    },
    {
     "name": "stdout",
     "output_type": "stream",
     "text": [
      "Iterasi 56, Train Data Accuracy: 88.16%\n",
      "{'ner': 3.992919945847824}\n"
     ]
    },
    {
     "name": "stderr",
     "output_type": "stream",
     "text": [
      "100%|██████████| 37/37 [00:01<00:00, 34.87it/s]\n"
     ]
    },
    {
     "name": "stdout",
     "output_type": "stream",
     "text": [
      "Iterasi 57, Train Data Accuracy: 88.39%\n",
      "{'ner': 1.3667264011589841}\n"
     ]
    },
    {
     "name": "stderr",
     "output_type": "stream",
     "text": [
      "100%|██████████| 37/37 [00:01<00:00, 34.19it/s]\n"
     ]
    },
    {
     "name": "stdout",
     "output_type": "stream",
     "text": [
      "Iterasi 58, Train Data Accuracy: 88.61%\n",
      "{'ner': 3.052571592281983}\n"
     ]
    },
    {
     "name": "stderr",
     "output_type": "stream",
     "text": [
      "100%|██████████| 37/37 [00:01<00:00, 34.85it/s]\n"
     ]
    },
    {
     "name": "stdout",
     "output_type": "stream",
     "text": [
      "Iterasi 59, Train Data Accuracy: 87.73%\n",
      "{'ner': 1.2306857022043225e-11}\n"
     ]
    },
    {
     "name": "stderr",
     "output_type": "stream",
     "text": [
      "100%|██████████| 37/37 [00:01<00:00, 34.72it/s]\n"
     ]
    },
    {
     "name": "stdout",
     "output_type": "stream",
     "text": [
      "Iterasi 60, Train Data Accuracy: 87.95%\n",
      "{'ner': 3.2299285919952715e-08}\n"
     ]
    },
    {
     "name": "stderr",
     "output_type": "stream",
     "text": [
      "100%|██████████| 37/37 [00:01<00:00, 34.66it/s]\n"
     ]
    },
    {
     "name": "stdout",
     "output_type": "stream",
     "text": [
      "Iterasi 61, Train Data Accuracy: 88.17%\n",
      "{'ner': 2.8736909272578467e-09}\n"
     ]
    },
    {
     "name": "stderr",
     "output_type": "stream",
     "text": [
      "100%|██████████| 37/37 [00:01<00:00, 33.70it/s]\n"
     ]
    },
    {
     "name": "stdout",
     "output_type": "stream",
     "text": [
      "Iterasi 62, Train Data Accuracy: 88.24%\n",
      "{'ner': 3.882817773182249}\n"
     ]
    },
    {
     "name": "stderr",
     "output_type": "stream",
     "text": [
      "100%|██████████| 37/37 [00:01<00:00, 35.37it/s]\n"
     ]
    },
    {
     "name": "stdout",
     "output_type": "stream",
     "text": [
      "Iterasi 63, Train Data Accuracy: 88.30%\n",
      "{'ner': 1.999596137926581}\n"
     ]
    },
    {
     "name": "stderr",
     "output_type": "stream",
     "text": [
      "100%|██████████| 37/37 [00:01<00:00, 35.95it/s]\n"
     ]
    },
    {
     "name": "stdout",
     "output_type": "stream",
     "text": [
      "Iterasi 64, Train Data Accuracy: 88.51%\n",
      "{'ner': 1.4833648888134707}\n"
     ]
    },
    {
     "name": "stderr",
     "output_type": "stream",
     "text": [
      "100%|██████████| 37/37 [00:01<00:00, 35.72it/s]\n"
     ]
    },
    {
     "name": "stdout",
     "output_type": "stream",
     "text": [
      "Iterasi 65, Train Data Accuracy: 88.14%\n",
      "{'ner': 5.410068756491895e-07}\n"
     ]
    },
    {
     "name": "stderr",
     "output_type": "stream",
     "text": [
      "100%|██████████| 37/37 [00:01<00:00, 32.94it/s]\n"
     ]
    },
    {
     "name": "stdout",
     "output_type": "stream",
     "text": [
      "Iterasi 66, Train Data Accuracy: 88.33%\n",
      "{'ner': 0.15275039224328144}\n"
     ]
    },
    {
     "name": "stderr",
     "output_type": "stream",
     "text": [
      "100%|██████████| 37/37 [00:01<00:00, 34.75it/s]\n"
     ]
    },
    {
     "name": "stdout",
     "output_type": "stream",
     "text": [
      "Iterasi 67, Train Data Accuracy: 88.52%\n",
      "{'ner': 0.9422760046520868}\n"
     ]
    },
    {
     "name": "stderr",
     "output_type": "stream",
     "text": [
      "100%|██████████| 37/37 [00:01<00:00, 34.04it/s]\n"
     ]
    },
    {
     "name": "stdout",
     "output_type": "stream",
     "text": [
      "Iterasi 68, Train Data Accuracy: 88.71%\n",
      "{'ner': 2.7740924793353054e-07}\n"
     ]
    },
    {
     "name": "stderr",
     "output_type": "stream",
     "text": [
      "100%|██████████| 37/37 [00:01<00:00, 35.33it/s]\n"
     ]
    },
    {
     "name": "stdout",
     "output_type": "stream",
     "text": [
      "Iterasi 69, Train Data Accuracy: 88.36%\n",
      "{'ner': 1.7949200523927775e-05}\n"
     ]
    },
    {
     "name": "stderr",
     "output_type": "stream",
     "text": [
      "100%|██████████| 37/37 [00:01<00:00, 35.50it/s]\n"
     ]
    },
    {
     "name": "stdout",
     "output_type": "stream",
     "text": [
      "Iterasi 70, Train Data Accuracy: 88.42%\n",
      "{'ner': 1.7763173983657927e-06}\n"
     ]
    },
    {
     "name": "stderr",
     "output_type": "stream",
     "text": [
      "100%|██████████| 37/37 [00:01<00:00, 35.29it/s]\n"
     ]
    },
    {
     "name": "stdout",
     "output_type": "stream",
     "text": [
      "Iterasi 71, Train Data Accuracy: 88.08%\n",
      "{'ner': 1.2042388684762703e-10}\n"
     ]
    },
    {
     "name": "stderr",
     "output_type": "stream",
     "text": [
      "100%|██████████| 37/37 [00:01<00:00, 34.90it/s]\n"
     ]
    },
    {
     "name": "stdout",
     "output_type": "stream",
     "text": [
      "Iterasi 72, Train Data Accuracy: 88.14%\n",
      "{'ner': 0.014943428652049194}\n"
     ]
    },
    {
     "name": "stderr",
     "output_type": "stream",
     "text": [
      "100%|██████████| 37/37 [00:01<00:00, 34.35it/s]\n"
     ]
    },
    {
     "name": "stdout",
     "output_type": "stream",
     "text": [
      "Iterasi 73, Train Data Accuracy: 88.21%\n",
      "{'ner': 0.0001462164139555964}\n"
     ]
    },
    {
     "name": "stderr",
     "output_type": "stream",
     "text": [
      "100%|██████████| 37/37 [00:01<00:00, 34.48it/s]\n"
     ]
    },
    {
     "name": "stdout",
     "output_type": "stream",
     "text": [
      "Iterasi 74, Train Data Accuracy: 88.27%\n",
      "{'ner': 0.022874951208679925}\n"
     ]
    },
    {
     "name": "stderr",
     "output_type": "stream",
     "text": [
      "100%|██████████| 37/37 [00:01<00:00, 35.05it/s]\n"
     ]
    },
    {
     "name": "stdout",
     "output_type": "stream",
     "text": [
      "Iterasi 75, Train Data Accuracy: 88.32%\n",
      "{'ner': 0.08166123974842907}\n"
     ]
    },
    {
     "name": "stderr",
     "output_type": "stream",
     "text": [
      "100%|██████████| 37/37 [00:01<00:00, 34.94it/s]\n"
     ]
    },
    {
     "name": "stdout",
     "output_type": "stream",
     "text": [
      "Iterasi 76, Train Data Accuracy: 88.50%\n",
      "{'ner': 2.526149673596812e-08}\n"
     ]
    },
    {
     "name": "stderr",
     "output_type": "stream",
     "text": [
      "100%|██████████| 37/37 [00:01<00:00, 34.86it/s]\n"
     ]
    },
    {
     "name": "stdout",
     "output_type": "stream",
     "text": [
      "Iterasi 77, Train Data Accuracy: 88.56%\n",
      "{'ner': 6.050510981088321e-06}\n"
     ]
    },
    {
     "name": "stderr",
     "output_type": "stream",
     "text": [
      "100%|██████████| 37/37 [00:01<00:00, 33.79it/s]\n"
     ]
    },
    {
     "name": "stdout",
     "output_type": "stream",
     "text": [
      "Iterasi 78, Train Data Accuracy: 88.24%\n",
      "{'ner': 4.440094016985903e-05}\n"
     ]
    },
    {
     "name": "stderr",
     "output_type": "stream",
     "text": [
      "100%|██████████| 37/37 [00:01<00:00, 33.54it/s]\n"
     ]
    },
    {
     "name": "stdout",
     "output_type": "stream",
     "text": [
      "Iterasi 79, Train Data Accuracy: 87.92%\n",
      "{'ner': 9.014287088732459e-08}\n"
     ]
    },
    {
     "name": "stderr",
     "output_type": "stream",
     "text": [
      "100%|██████████| 37/37 [00:01<00:00, 34.83it/s]\n"
     ]
    },
    {
     "name": "stdout",
     "output_type": "stream",
     "text": [
      "Iterasi 80, Train Data Accuracy: 87.98%\n",
      "{'ner': 1.0224363093797675e-07}\n"
     ]
    },
    {
     "name": "stderr",
     "output_type": "stream",
     "text": [
      "100%|██████████| 37/37 [00:01<00:00, 35.38it/s]\n"
     ]
    },
    {
     "name": "stdout",
     "output_type": "stream",
     "text": [
      "Iterasi 81, Train Data Accuracy: 88.04%\n",
      "{'ner': 3.698446450107935e-05}\n"
     ]
    },
    {
     "name": "stderr",
     "output_type": "stream",
     "text": [
      "100%|██████████| 37/37 [00:01<00:00, 35.43it/s]\n"
     ]
    },
    {
     "name": "stdout",
     "output_type": "stream",
     "text": [
      "Iterasi 82, Train Data Accuracy: 87.74%\n",
      "{'ner': 6.009637493798991}\n"
     ]
    },
    {
     "name": "stderr",
     "output_type": "stream",
     "text": [
      "100%|██████████| 37/37 [00:01<00:00, 34.29it/s]\n"
     ]
    },
    {
     "name": "stdout",
     "output_type": "stream",
     "text": [
      "Iterasi 83, Train Data Accuracy: 87.79%\n",
      "{'ner': 1.8834889142019213}\n"
     ]
    },
    {
     "name": "stderr",
     "output_type": "stream",
     "text": [
      "100%|██████████| 37/37 [00:01<00:00, 33.94it/s]\n"
     ]
    },
    {
     "name": "stdout",
     "output_type": "stream",
     "text": [
      "Iterasi 84, Train Data Accuracy: 87.85%\n",
      "{'ner': 0.6982188499124449}\n"
     ]
    },
    {
     "name": "stderr",
     "output_type": "stream",
     "text": [
      "100%|██████████| 37/37 [00:01<00:00, 31.10it/s]\n"
     ]
    },
    {
     "name": "stdout",
     "output_type": "stream",
     "text": [
      "Iterasi 85, Train Data Accuracy: 87.91%\n",
      "{'ner': 1.3238483824828963e-06}\n"
     ]
    },
    {
     "name": "stderr",
     "output_type": "stream",
     "text": [
      "100%|██████████| 37/37 [00:01<00:00, 30.79it/s]\n"
     ]
    },
    {
     "name": "stdout",
     "output_type": "stream",
     "text": [
      "Iterasi 86, Train Data Accuracy: 88.07%\n",
      "{'ner': 3.810335668116183}\n"
     ]
    },
    {
     "name": "stderr",
     "output_type": "stream",
     "text": [
      "100%|██████████| 37/37 [00:01<00:00, 30.53it/s]\n"
     ]
    },
    {
     "name": "stdout",
     "output_type": "stream",
     "text": [
      "Iterasi 87, Train Data Accuracy: 88.13%\n",
      "{'ner': 1.9999041801883601}\n"
     ]
    },
    {
     "name": "stderr",
     "output_type": "stream",
     "text": [
      "100%|██████████| 37/37 [00:01<00:00, 31.47it/s]\n"
     ]
    },
    {
     "name": "stdout",
     "output_type": "stream",
     "text": [
      "Iterasi 88, Train Data Accuracy: 88.18%\n",
      "{'ner': 0.005437024525812739}\n"
     ]
    },
    {
     "name": "stderr",
     "output_type": "stream",
     "text": [
      "100%|██████████| 37/37 [00:01<00:00, 33.51it/s]\n"
     ]
    },
    {
     "name": "stdout",
     "output_type": "stream",
     "text": [
      "Iterasi 89, Train Data Accuracy: 87.89%\n",
      "{'ner': 8.923910423406221e-09}\n"
     ]
    },
    {
     "name": "stderr",
     "output_type": "stream",
     "text": [
      "100%|██████████| 37/37 [00:01<00:00, 34.97it/s]\n"
     ]
    },
    {
     "name": "stdout",
     "output_type": "stream",
     "text": [
      "Iterasi 90, Train Data Accuracy: 88.05%\n",
      "{'ner': 0.0017810843274301453}\n"
     ]
    },
    {
     "name": "stderr",
     "output_type": "stream",
     "text": [
      "100%|██████████| 37/37 [00:01<00:00, 34.94it/s]\n"
     ]
    },
    {
     "name": "stdout",
     "output_type": "stream",
     "text": [
      "Iterasi 91, Train Data Accuracy: 88.21%\n",
      "{'ner': 2.496889551820878e-07}\n"
     ]
    },
    {
     "name": "stderr",
     "output_type": "stream",
     "text": [
      "100%|██████████| 37/37 [00:01<00:00, 34.73it/s]\n"
     ]
    },
    {
     "name": "stdout",
     "output_type": "stream",
     "text": [
      "Iterasi 92, Train Data Accuracy: 88.36%\n",
      "{'ner': 0.011758296501532305}\n"
     ]
    },
    {
     "name": "stderr",
     "output_type": "stream",
     "text": [
      "100%|██████████| 37/37 [00:01<00:00, 34.90it/s]\n"
     ]
    },
    {
     "name": "stdout",
     "output_type": "stream",
     "text": [
      "Iterasi 93, Train Data Accuracy: 88.51%\n",
      "{'ner': 9.181498231847286e-06}\n"
     ]
    },
    {
     "name": "stderr",
     "output_type": "stream",
     "text": [
      "100%|██████████| 37/37 [00:01<00:00, 34.13it/s]\n"
     ]
    },
    {
     "name": "stdout",
     "output_type": "stream",
     "text": [
      "Iterasi 94, Train Data Accuracy: 88.66%\n",
      "{'ner': 0.008124457616310029}\n"
     ]
    },
    {
     "name": "stderr",
     "output_type": "stream",
     "text": [
      "100%|██████████| 37/37 [00:01<00:00, 33.79it/s]\n"
     ]
    },
    {
     "name": "stdout",
     "output_type": "stream",
     "text": [
      "Iterasi 95, Train Data Accuracy: 88.70%\n",
      "{'ner': 3.9986930364762103}\n"
     ]
    },
    {
     "name": "stderr",
     "output_type": "stream",
     "text": [
      "100%|██████████| 37/37 [00:01<00:00, 34.32it/s]\n"
     ]
    },
    {
     "name": "stdout",
     "output_type": "stream",
     "text": [
      "Iterasi 96, Train Data Accuracy: 88.75%\n",
      "{'ner': 4.218518658111871e-05}\n"
     ]
    },
    {
     "name": "stderr",
     "output_type": "stream",
     "text": [
      "100%|██████████| 37/37 [00:01<00:00, 33.84it/s]\n"
     ]
    },
    {
     "name": "stdout",
     "output_type": "stream",
     "text": [
      "Iterasi 97, Train Data Accuracy: 88.89%\n",
      "{'ner': 0.00014300028777847074}\n"
     ]
    },
    {
     "name": "stderr",
     "output_type": "stream",
     "text": [
      "100%|██████████| 37/37 [00:01<00:00, 31.17it/s]\n"
     ]
    },
    {
     "name": "stdout",
     "output_type": "stream",
     "text": [
      "Iterasi 98, Train Data Accuracy: 89.02%\n",
      "{'ner': 0.9248104717313849}\n"
     ]
    },
    {
     "name": "stderr",
     "output_type": "stream",
     "text": [
      "100%|██████████| 37/37 [00:01<00:00, 31.28it/s]\n"
     ]
    },
    {
     "name": "stdout",
     "output_type": "stream",
     "text": [
      "Iterasi 99, Train Data Accuracy: 89.16%\n",
      "{'ner': 2.012376524876434}\n"
     ]
    },
    {
     "name": "stderr",
     "output_type": "stream",
     "text": [
      "100%|██████████| 37/37 [00:01<00:00, 29.62it/s]"
     ]
    },
    {
     "name": "stdout",
     "output_type": "stream",
     "text": [
      "Iterasi 100, Train Data Accuracy: 89.29%\n",
      "{'ner': 0.09522891789903344}\n"
     ]
    },
    {
     "name": "stderr",
     "output_type": "stream",
     "text": [
      "\n"
     ]
    }
   ],
   "source": [
    "from spacy.training.example import Example\n",
    "\n",
    "for _, annotations in TRAIN_DATA:\n",
    "    for ent in annotations.get('entities'):\n",
    "        ner.add_label(ent[2])\n",
    "\n",
    "correct_train_entities = 0  # Untuk menghitung entitas yang diidentifikasi dengan benar pada data pelatihan\n",
    "total_train_entities = 0    # Untuk menghitung total entitas sebenarnya pada data pelatihan\n",
    "\n",
    "other_pipes = [pipe for pipe in nlp.pipe_names if pipe != 'ner']\n",
    "with nlp.disable_pipes(*other_pipes):  # only train NER\n",
    "    optimizer = nlp.begin_training()\n",
    "    for itn in range(n_iter):\n",
    "        random.shuffle(TRAIN_DATA)\n",
    "        losses = {}\n",
    "        for text, annotations in tqdm(TRAIN_DATA):\n",
    "            example = Example.from_dict(nlp.make_doc(text), annotations)\n",
    "            nlp.update(\n",
    "                [example],  \n",
    "                drop=0.5,  \n",
    "                sgd=optimizer,\n",
    "                losses=losses)\n",
    "            \n",
    "         # Hitung akurasi selama pelatihan\n",
    "        doc = nlp(text)\n",
    "        for ent in annotations[\"entities\"]:\n",
    "            start, end, label = ent\n",
    "            if (start, end, label) in [(ent.start_char, ent.end_char, ent.label_) for ent in doc.ents]:\n",
    "                correct_train_entities += 1\n",
    "            total_train_entities += 1\n",
    "        \n",
    "        accuracy_train = (correct_train_entities / total_train_entities) * 100\n",
    "        print(f\"Iterasi {itn + 1}, Train Data Accuracy: {accuracy_train:.2f}%\")\n",
    "\n",
    "        print(losses)\n"
   ]
  },
  {
   "cell_type": "code",
   "execution_count": 7,
   "id": "a9f8f713-109f-4011-8606-e6a1a4ccd845",
   "metadata": {},
   "outputs": [
    {
     "name": "stdout",
     "output_type": "stream",
     "text": [
      "Entities [('kurang dari sama dengan', 'Relas'), ('dan', 'Gate'), ('kurang dari', 'Relas')]\n",
      "Tokens [('Jarak', '', 'O'), ('tempuh', '', 'O'), ('kurang', 'Relas', 'B'), ('dari', 'Relas', 'I'), ('sama', 'Relas', 'I'), ('dengan', 'Relas', 'I'), ('10', '', 'O'), ('kilometer', '', 'O'), ('dan', 'Gate', 'B'), ('waktu', '', 'O'), ('tempuh', '', 'O'), ('kurang', 'Relas', 'B'), ('dari', 'Relas', 'I'), ('30', '', 'O'), ('menit', '', 'O')]\n",
      "Entities [('lebih dari sama dengan', 'Relas')]\n",
      "Tokens [('Rata', '', 'O'), ('-', '', 'O'), ('rata', '', 'O'), ('usia', '', 'O'), ('lebih', 'Relas', 'B'), ('dari', 'Relas', 'I'), ('sama', 'Relas', 'I'), ('dengan', 'Relas', 'I'), ('25', '', 'O'), ('tahun', '', 'O')]\n",
      "Entities [('sama dengan', 'Relas')]\n",
      "Tokens [('Harga', '', 'O'), ('set', '', 'O'), ('alat', '', 'O'), ('masak', '', 'O'), ('sama', 'Relas', 'B'), ('dengan', 'Relas', 'I'), ('150', '', 'O'), ('ribu', '', 'O')]\n",
      "Entities [('lebih dari', 'Relas')]\n",
      "Tokens [('Total', '', 'O'), ('Buah', '', 'O'), ('lebih', 'Relas', 'B'), ('dari', 'Relas', 'I'), ('15', '', 'O')]\n",
      "Entities [('lebih dari sama dengan', 'Relas'), ('dan', 'Gate'), ('kurang dari', 'Relas')]\n",
      "Tokens [('Usia', '', 'O'), ('baterai', '', 'O'), ('lebih', 'Relas', 'B'), ('dari', 'Relas', 'I'), ('sama', 'Relas', 'I'), ('dengan', 'Relas', 'I'), ('5', '', 'O'), ('tahun', '', 'O'), ('dan', 'Gate', 'B'), ('waktu', '', 'O'), ('pengisian', '', 'O'), ('daya', '', 'O'), ('kurang', 'Relas', 'B'), ('dari', 'Relas', 'I'), ('2', '', 'O'), ('jam', '', 'O')]\n",
      "Entities [('lebih dari sama dengan', 'Relas'), ('dan', 'Gate'), ('kurang dari', 'Relas')]\n",
      "Tokens [('Berat', '', 'O'), ('roda', '', 'O'), ('lebih', 'Relas', 'B'), ('dari', 'Relas', 'I'), ('sama', 'Relas', 'I'), ('dengan', 'Relas', 'I'), ('100', '', 'O'), ('kg', '', 'O'), ('dan', 'Gate', 'B'), ('bobot', '', 'O'), ('kendaraan', '', 'O'), ('kurang', 'Relas', 'B'), ('dari', 'Relas', 'I'), ('1', '', 'O'), ('ton', '', 'O')]\n",
      "Entities [('sama dengan', 'Relas'), ('dan', 'Gate'), ('sama dengan', 'Relas')]\n",
      "Tokens [('Username', '', 'O'), ('sama', 'Relas', 'B'), ('dengan', 'Relas', 'I'), ('benar', '', 'O'), ('dan', 'Gate', 'B'), ('Password', '', 'O'), ('sama', 'Relas', 'B'), ('dengan', 'Relas', 'I'), ('benar', '', 'O')]\n",
      "Entities [('sama dengan', 'Relas')]\n",
      "Tokens [('Jumlah', '', 'O'), ('aplikasi', '', 'O'), ('sama', 'Relas', 'B'), ('dengan', 'Relas', 'I'), ('50', '', 'O')]\n",
      "Entities [('sama dengan', 'Relas')]\n",
      "Tokens [('Juara', '', 'O'), ('sama', 'Relas', 'B'), ('dengan', 'Relas', 'I'), ('1', '', 'O')]\n",
      "Entities [('lebih dari', 'Relas'), ('dan', 'Gate'), ('sama dengan', 'Relas')]\n",
      "Tokens [('Jumlah', '', 'O'), ('buku', '', 'O'), ('lebih', 'Relas', 'B'), ('dari', 'Relas', 'I'), ('10', '', 'O'), ('ribu', '', 'O'), ('dan', 'Gate', 'B'), ('jenis', '', 'O'), ('buku', '', 'O'), ('sama', 'Relas', 'B'), ('dengan', 'Relas', 'I'), ('novel', '', 'O')]\n",
      "Entities [('lebih dari sama dengan', 'Relas'), ('dan', 'Gate'), ('kurang dari', 'Relas')]\n",
      "Tokens [('Rating', '', 'O'), ('lebih', 'Relas', 'B'), ('dari', 'Relas', 'I'), ('sama', 'Relas', 'I'), ('dengan', 'Relas', 'I'), ('4', '', 'O'), ('dan', 'Gate', 'B'), ('Harga', '', 'O'), ('kurang', 'Relas', 'B'), ('dari', 'Relas', 'I'), ('500', '', 'O')]\n",
      "Entities [('lebih dari sama dengan', 'Relas'), ('dan', 'Gate'), ('kurang dari', 'Relas')]\n",
      "Tokens [('Suhu', '', 'O'), ('air', '', 'O'), ('lebih', 'Relas', 'B'), ('dari', 'Relas', 'I'), ('sama', 'Relas', 'I'), ('dengan', 'Relas', 'I'), ('25', '', 'O'), ('derajat', '', 'O'), ('Celsius', '', 'O'), ('dan', 'Gate', 'B'), ('suhu', '', 'O'), ('ruangan', '', 'O'), ('kurang', 'Relas', 'B'), ('dari', 'Relas', 'I'), ('30', '', 'O'), ('derajat', '', 'O'), ('Celsius', '', 'O')]\n",
      "Entities [('lebih dari sama dengan', 'Relas'), ('dan', 'Gate'), ('tidak sama dengan', 'Relas')]\n",
      "Tokens [('Jumlah', '', 'O'), ('pohon', '', 'O'), ('lebih', 'Relas', 'B'), ('dari', 'Relas', 'I'), ('sama', 'Relas', 'I'), ('dengan', 'Relas', 'I'), ('200', '', 'O'), ('dan', 'Gate', 'B'), ('jenisnya', '', 'O'), ('tidak', 'Relas', 'B'), ('sama', 'Relas', 'I'), ('dengan', 'Relas', 'I'), ('pohon', '', 'O'), ('cemara', '', 'O')]\n",
      "Entities [('lebih dari', 'Relas'), ('dan', 'Gate'), ('kurang dari', 'Relas')]\n",
      "Tokens [('Kecepatan', '', 'O'), ('prosesor', '', 'O'), ('lebih', 'Relas', 'B'), ('dari', 'Relas', 'I'), ('2.5', '', 'O'), ('GHz', '', 'O'), ('dan', 'Gate', 'B'), ('jumlah', '', 'O'), ('memori', '', 'O'), ('RAM', '', 'O'), ('kurang', 'Relas', 'B'), ('dari', 'Relas', 'I'), ('8', '', 'O'), ('gigabyte', '', 'O')]\n",
      "Entities [('sama dengan', 'Relas'), ('atau', 'Gate'), ('lebih dari', 'Relas')]\n",
      "Tokens [('Suhu', '', 'O'), ('sama', 'Relas', 'B'), ('dengan', 'Relas', 'I'), ('25', '', 'O'), ('atau', 'Gate', 'B'), ('Kelembaban', '', 'O'), ('lebih', 'Relas', 'B'), ('dari', 'Relas', 'I'), ('70', '', 'O')]\n",
      "Entities [('sama dengan', 'Relas')]\n",
      "Tokens [('Kapasitas', '', 'O'), ('RAM', '', 'O'), ('sama', 'Relas', 'B'), ('dengan', 'Relas', 'I'), ('8', '', 'O'), ('gigabyte', '', 'O')]\n",
      "Entities [('lebih dari sama dengan', 'Relas'), ('dan', 'Gate'), ('lebih dari', 'Relas')]\n",
      "Tokens [('Jarak', '', 'O'), ('lebih', 'Relas', 'B'), ('dari', 'Relas', 'I'), ('sama', 'Relas', 'I'), ('dengan', 'Relas', 'I'), ('300', '', 'O'), ('meter', '', 'O'), ('dan', 'Gate', 'B'), ('Kecepatan', '', 'O'), ('lebih', 'Relas', 'B'), ('dari', 'Relas', 'I'), ('25', '', 'O')]\n",
      "Entities [('sama dengan', 'Relas')]\n",
      "Tokens [('Cable', '', 'O'), ('Type', '', 'O'), ('sama', 'Relas', 'B'), ('dengan', 'Relas', 'I'), ('Optic', '', 'O')]\n",
      "Entities [('lebih dari', 'Relas'), ('dan', 'Gate'), ('kurang dari', 'Relas')]\n",
      "Tokens [('Harga', '', 'O'), ('lebih', 'Relas', 'B'), ('dari', 'Relas', 'I'), ('1000', '', 'O'), ('dan', 'Gate', 'B'), ('Total', '', 'O'), ('kurang', 'Relas', 'B'), ('dari', 'Relas', 'I'), ('2000', '', 'O')]\n",
      "Entities [('lebih dari', 'Relas'), ('dan', 'Gate'), ('kurang dari', 'Relas')]\n",
      "Tokens [('Kecepatan', '', 'O'), ('transfer', '', 'O'), ('data', '', 'O'), ('ini', '', 'O'), ('lebih', 'Relas', 'B'), ('dari', 'Relas', 'I'), ('100', '', 'O'), ('MBps', '', 'O'), ('dan', 'Gate', 'B'), ('kapasitas', '', 'O'), ('penyimpanan', '', 'O'), ('kurang', 'Relas', 'B'), ('dari', 'Relas', 'I'), ('64', '', 'O'), ('gigabyte', '', 'O')]\n",
      "Entities [('lebih dari', 'Relas'), ('dan', 'Gate'), ('sama dengan', 'Relas')]\n",
      "Tokens [('Tinggi', '', 'O'), ('pohon', '', 'O'), ('lebih', 'Relas', 'B'), ('dari', 'Relas', 'I'), ('3', '', 'O'), ('meter', '', 'O'), ('dan', 'Gate', 'B'), ('jumlah', '', 'O'), ('cabang', '', 'O'), ('sama', 'Relas', 'B'), ('dengan', 'Relas', 'I'), ('20', '', 'O')]\n",
      "Entities [('sama dengan', 'Relas'), ('dan', 'Gate'), ('lebih dari', 'Relas')]\n",
      "Tokens [('Jumlah', '', 'O'), ('kursi', '', 'O'), ('sama', 'Relas', 'B'), ('dengan', 'Relas', 'I'), ('50', '', 'O'), ('dan', 'Gate', 'B'), ('kapasitas', '', 'O'), ('lebih', 'Relas', 'B'), ('dari', 'Relas', 'I'), ('100', '', 'O'), ('orang', '', 'O')]\n",
      "Entities [('lebih dari', 'Relas'), ('dan', 'Gate'), ('kurang dari', 'Relas')]\n",
      "Tokens [('Jumlah', '', 'O'), ('inti', '', 'O'), ('prosesor', '', 'O'), ('lebih', 'Relas', 'B'), ('dari', 'Relas', 'I'), ('4', '', 'O'), ('dan', 'Gate', 'B'), ('kecepatan', '', 'O'), ('clock', '', 'O'), ('kurang', 'Relas', 'B'), ('dari', 'Relas', 'I'), ('2.0', '', 'O'), ('GHz', '', 'O')]\n",
      "Entities [('tidak sama dengan', 'Relas')]\n",
      "Tokens [('Berat', '', 'O'), ('tidak', 'Relas', 'B'), ('sama', 'Relas', 'I'), ('dengan', 'Relas', 'I'), ('100', '', 'O'), ('kg', '', 'O')]\n",
      "Entities [('tidak sama dengan', 'Relas')]\n",
      "Tokens [('Harga', '', 'O'), ('apel', '', 'O'), ('tidak', 'Relas', 'B'), ('sama', 'Relas', 'I'), ('dengan', 'Relas', 'I'), ('harga', '', 'O'), ('jeruk', '', 'O')]\n",
      "Entities [('kurang dari', 'Relas'), ('dan', 'Gate'), ('lebih dari', 'Relas')]\n",
      "Tokens [('Harga', '', 'O'), ('kue', '', 'O'), ('kurang', 'Relas', 'B'), ('dari', 'Relas', 'I'), ('10', '', 'O'), ('ribu', '', 'O'), ('rupiah', '', 'O'), ('dan', 'Gate', 'B'), ('harga', '', 'O'), ('krim', '', 'O'), ('lebih', 'Relas', 'B'), ('dari', 'Relas', 'I'), ('5', '', 'O'), ('ribu', '', 'O'), ('rupiah', '', 'O')]\n",
      "Entities [('tidak sama dengan', 'Relas')]\n",
      "Tokens [('Cuaca', '', 'O'), ('hari', '', 'O'), ('ini', '', 'O'), ('tidak', 'Relas', 'B'), ('sama', 'Relas', 'I'), ('dengan', 'Relas', 'I'), ('kemarin', '', 'O')]\n",
      "Entities [('kurang dari', 'Relas'), ('atau', 'Gate'), ('sama dengan', 'Relas'), ('dan', 'Gate'), ('kurang dari', 'Relas')]\n",
      "Tokens [('Suhu', '', 'O'), ('pegunungan', '', 'O'), ('kurang', 'Relas', 'B'), ('dari', 'Relas', 'I'), ('15', '', 'O'), ('derajat', '', 'O'), ('Celsius', '', 'O'), ('atau', 'Gate', 'B'), ('cuaca', '', 'O'), ('sama', 'Relas', 'B'), ('dengan', 'Relas', 'I'), ('bersalju', '', 'O'), ('dan', 'Gate', 'B'), ('suhu', '', 'O'), ('kurang', 'Relas', 'B'), ('dari', 'Relas', 'I'), ('0', '', 'O'), ('derajat', '', 'O'), ('Celsius', '', 'O')]\n",
      "Entities [('lebih dari', 'Relas'), ('atau', 'Gate'), ('kurang dari sama dengan', 'Relas')]\n",
      "Tokens [('Jumlah', '', 'O'), ('penonton', '', 'O'), ('lebih', 'Relas', 'B'), ('dari', 'Relas', 'I'), ('5000', '', 'O'), ('atau', 'Gate', 'B'), ('tiket', '', 'O'), ('VIP', '', 'O'), ('kurang', 'Relas', 'B'), ('dari', 'Relas', 'I'), ('sama', 'Relas', 'I'), ('dengan', 'Relas', 'I'), ('100', '', 'O')]\n",
      "Entities [('kurang dari', 'Relas')]\n",
      "Tokens [('Tanggal', '', 'O'), ('kurang', 'Relas', 'B'), ('dari', 'Relas', 'I'), ('17', '', 'O')]\n",
      "Entities [('sama dengan', 'Relas')]\n",
      "Tokens [('Jumlah', '', 'O'), ('penumpang', '', 'O'), ('sama', 'Relas', 'B'), ('dengan', 'Relas', 'I'), ('40', '', 'O'), ('orang', '', 'O')]\n",
      "Entities [('sama dengan', 'Relas'), ('dan', 'Gate'), ('lebih dari', 'Relas')]\n",
      "Tokens [('Jumlah', '', 'O'), ('penumpang', '', 'O'), ('sama', 'Relas', 'B'), ('dengan', 'Relas', 'I'), ('80', '', 'O'), ('orang', '', 'O'), ('dan', 'Gate', 'B'), ('jumlah', '', 'O'), ('kursi', '', 'O'), ('kosong', '', 'O'), ('lebih', 'Relas', 'B'), ('dari', 'Relas', 'I'), ('10', '', 'O')]\n",
      "Entities [('kurang dari', 'Relas'), ('atau', 'Gate'), ('lebih dari sama dengan', 'Relas')]\n",
      "Tokens [('Harga', '', 'O'), ('tiket', '', 'O'), ('masuk', '', 'O'), ('kurang', 'Relas', 'B'), ('dari', 'Relas', 'I'), ('50', '', 'O'), ('ribu', '', 'O'), ('rupiah', '', 'O'), ('atau', 'Gate', 'B'), ('anak', '', 'O'), ('-', '', 'O'), ('anak', '', 'O'), ('lebih', 'Relas', 'B'), ('dari', 'Relas', 'I'), ('sama', 'Relas', 'I'), ('dengan', 'Relas', 'I'), ('5', '', 'O'), ('tahun', '', 'O')]\n",
      "Entities [('lebih dari', 'Relas'), ('dan', 'Gate'), ('kurang dari', 'Relas')]\n",
      "Tokens [('Resolusi', '', 'O'), ('layar', '', 'O'), ('lebih', 'Relas', 'B'), ('dari', 'Relas', 'I'), ('3840', '', 'O'), ('x', '', 'O'), ('2160', '', 'O'), ('pixel', '', 'O'), ('dan', 'Gate', 'B'), ('refresh', '', 'O'), ('rate', '', 'O'), ('kurang', 'Relas', 'B'), ('dari', 'Relas', 'I'), ('120', '', 'O'), ('Hz', '', 'O')]\n",
      "Entities [('lebih dari', 'Relas'), ('dan', 'Gate'), ('kurang dari', 'Relas')]\n",
      "Tokens [('Kecepatan', '', 'O'), ('internet', '', 'O'), ('lebih', 'Relas', 'B'), ('dari', 'Relas', 'I'), ('100', '', 'O'), ('Mbps', '', 'O'), ('dan', 'Gate', 'B'), ('jumlah', '', 'O'), ('perangkat', '', 'O'), ('kurang', 'Relas', 'B'), ('dari', 'Relas', 'I'), ('5', '', 'O')]\n",
      "Entities [('lebih dari', 'Relas')]\n",
      "Tokens [('Jarak', '', 'O'), ('tempuh', '', 'O'), ('lebih', 'Relas', 'B'), ('dari', 'Relas', 'I'), ('100', '', 'O'), ('kilometer', '', 'O')]\n",
      "Entities [('kurang dari', 'Relas'), ('dan', 'Gate'), ('lebih dari', 'Relas')]\n",
      "Tokens [('Harga', '', 'O'), ('minyak', '', 'O'), ('goreng', '', 'O'), ('kurang', 'Relas', 'B'), ('dari', 'Relas', 'I'), ('20', '', 'O'), ('ribu', '', 'O'), ('rupiah', '', 'O'), ('dan', 'Gate', 'B'), ('harga', '', 'O'), ('telur', '', 'O'), ('lebih', 'Relas', 'B'), ('dari', 'Relas', 'I'), ('15', '', 'O'), ('ribu', '', 'O'), ('rupiah', '', 'O')]\n"
     ]
    }
   ],
   "source": [
    "for text, _ in TRAIN_DATA:\n",
    "    doc = nlp(text)\n",
    "    print('Entities', [(ent.text, ent.label_) for ent in doc.ents])\n",
    "    print('Tokens', [(t.text, t.ent_type_, t.ent_iob_) for t in doc])"
   ]
  },
  {
   "cell_type": "code",
   "execution_count": 8,
   "id": "fe083452-03c1-455d-a22e-dbb57fb6f339",
   "metadata": {},
   "outputs": [
    {
     "name": "stdout",
     "output_type": "stream",
     "text": [
      "Saved model to C:\\Users\\prade\\OneDrive\\Documents\\Materi Kuliah\\Sitasi Proposal\\FINAL PROPOSAL\\Node-Flask-Api\\MODEL\n"
     ]
    }
   ],
   "source": [
    "if output_dir is not None:\n",
    "    output_dir = Path(output_dir)\n",
    "    if not output_dir.exists():\n",
    "        output_dir.mkdir()\n",
    "    nlp.to_disk(output_dir)\n",
    "    print(\"Saved model to\", output_dir)    "
   ]
  },
  {
   "cell_type": "code",
   "execution_count": 9,
   "id": "299de74f-c42d-4a1a-a8f4-df0a92894093",
   "metadata": {},
   "outputs": [
    {
     "name": "stdout",
     "output_type": "stream",
     "text": [
      "Loading from C:\\Users\\prade\\OneDrive\\Documents\\Materi Kuliah\\Sitasi Proposal\\FINAL PROPOSAL\\Node-Flask-Api\\MODEL\n",
      "Entities [('kurang dari sama dengan', 'Relas'), ('dan', 'Gate'), ('kurang dari', 'Relas')]\n",
      "Entities [('lebih dari sama dengan', 'Relas')]\n",
      "Entities [('sama dengan', 'Relas')]\n",
      "Entities [('lebih dari', 'Relas')]\n",
      "Entities [('lebih dari sama dengan', 'Relas'), ('dan', 'Gate'), ('kurang dari', 'Relas')]\n",
      "Entities [('lebih dari sama dengan', 'Relas'), ('dan', 'Gate'), ('kurang dari', 'Relas')]\n",
      "Entities [('sama dengan', 'Relas'), ('dan', 'Gate'), ('sama dengan', 'Relas')]\n",
      "Entities [('sama dengan', 'Relas')]\n",
      "Entities [('sama dengan', 'Relas')]\n",
      "Entities [('lebih dari', 'Relas'), ('dan', 'Gate'), ('sama dengan', 'Relas')]\n",
      "Entities [('lebih dari sama dengan', 'Relas'), ('dan', 'Gate'), ('kurang dari', 'Relas')]\n",
      "Entities [('lebih dari sama dengan', 'Relas'), ('dan', 'Gate'), ('kurang dari', 'Relas')]\n",
      "Entities [('lebih dari sama dengan', 'Relas'), ('dan', 'Gate'), ('tidak sama dengan', 'Relas')]\n",
      "Entities [('lebih dari', 'Relas'), ('dan', 'Gate'), ('kurang dari', 'Relas')]\n",
      "Entities [('sama dengan', 'Relas'), ('atau', 'Gate'), ('lebih dari', 'Relas')]\n",
      "Entities [('sama dengan', 'Relas')]\n",
      "Entities [('lebih dari sama dengan', 'Relas'), ('dan', 'Gate'), ('lebih dari', 'Relas')]\n",
      "Entities [('sama dengan', 'Relas')]\n",
      "Entities [('lebih dari', 'Relas'), ('dan', 'Gate'), ('kurang dari', 'Relas')]\n",
      "Entities [('lebih dari', 'Relas'), ('dan', 'Gate'), ('kurang dari', 'Relas')]\n",
      "Entities [('lebih dari', 'Relas'), ('dan', 'Gate'), ('sama dengan', 'Relas')]\n",
      "Entities [('sama dengan', 'Relas'), ('dan', 'Gate'), ('lebih dari', 'Relas')]\n",
      "Entities [('lebih dari', 'Relas'), ('dan', 'Gate'), ('kurang dari', 'Relas')]\n",
      "Entities [('tidak sama dengan', 'Relas')]\n",
      "Entities [('tidak sama dengan', 'Relas')]\n",
      "Entities [('kurang dari', 'Relas'), ('dan', 'Gate'), ('lebih dari', 'Relas')]\n",
      "Entities [('tidak sama dengan', 'Relas')]\n",
      "Entities [('kurang dari', 'Relas'), ('atau', 'Gate'), ('sama dengan', 'Relas'), ('dan', 'Gate'), ('kurang dari', 'Relas')]\n",
      "Entities [('lebih dari', 'Relas'), ('atau', 'Gate'), ('kurang dari sama dengan', 'Relas')]\n",
      "Entities [('kurang dari', 'Relas')]\n",
      "Entities [('sama dengan', 'Relas')]\n",
      "Entities [('sama dengan', 'Relas'), ('dan', 'Gate'), ('lebih dari', 'Relas')]\n",
      "Entities [('kurang dari', 'Relas'), ('atau', 'Gate'), ('lebih dari sama dengan', 'Relas')]\n",
      "Entities [('lebih dari', 'Relas'), ('dan', 'Gate'), ('kurang dari', 'Relas')]\n",
      "Entities [('lebih dari', 'Relas'), ('dan', 'Gate'), ('kurang dari', 'Relas')]\n",
      "Entities [('lebih dari', 'Relas')]\n",
      "Entities [('kurang dari', 'Relas'), ('dan', 'Gate'), ('lebih dari', 'Relas')]\n"
     ]
    }
   ],
   "source": [
    "print(\"Loading from\", output_dir)\n",
    "nlp2 = spacy.load(output_dir)\n",
    "for text, _ in TRAIN_DATA:\n",
    "    doc = nlp2(text)\n",
    "    print('Entities', [(ent.text, ent.label_) for ent in doc.ents])\n",
    "    #print('Tokens', [(t.text, t.ent_type_, t.ent_iob) for t in doc])"
   ]
  },
  {
   "cell_type": "code",
   "execution_count": 10,
   "id": "e39c16f3-6a2e-4d95-8302-382e96d8cf25",
   "metadata": {},
   "outputs": [],
   "source": [
    "#TEST -----------------------------------------------------------"
   ]
  },
  {
   "cell_type": "code",
   "execution_count": 10,
   "id": "73b5c559-d025-413a-821c-8470002a3949",
   "metadata": {},
   "outputs": [
    {
     "name": "stdout",
     "output_type": "stream",
     "text": [
      "Entities [('sama dengan', 'Relas')]\n",
      "Tokens [('Total_buah', '', 'O'), ('sama', 'Relas', 'B'), ('dengan', 'Relas', 'I'), ('17', '', 'O')]\n"
     ]
    }
   ],
   "source": [
    "# Load the trained NER model\n",
    "nlp = spacy.load(output_dir)\n",
    "\n",
    "# Test text\n",
    "test_text = \"Total_buah sama dengan 17\"\n",
    "\n",
    "# Process the test text\n",
    "doc = nlp(test_text)\n",
    "\n",
    "\n",
    "# Print extracted entities\n",
    "print('Entities', [(ent.text, ent.label_) for ent in doc.ents])\n",
    "print('Tokens', [(t.text, t.ent_type_, t.ent_iob_) for t in doc])"
   ]
  },
  {
   "cell_type": "code",
   "execution_count": 14,
   "id": "e40416a8-a847-4a09-a2b5-4e78fa9e919b",
   "metadata": {},
   "outputs": [
    {
     "name": "stdout",
     "output_type": "stream",
     "text": [
      "Total buah sama dengan 17 dan besar bola kurang dari 17\n",
      "{'entities': [(11, 22, 'Relas'), (26, 29, 'Gate'), (41, 52, 'Relas')]}\n",
      "(sama dengan, dan, kurang dari)\n",
      "sama dengan Relas\n",
      "dan Gate\n",
      "kurang dari Relas\n",
      "11 22 Relas\n",
      "(11, 22, 'Relas')\n",
      "26 29 Gate\n",
      "(26, 29, 'Gate')\n",
      "41 52 Relas\n",
      "(41, 52, 'Relas')\n",
      "Suara sama dengan 100 dan juara sama dengan menang\n",
      "{'entities': [(6, 17, 'Relas'), (22, 25, 'Gate'), (32, 43, 'Relas')]}\n",
      "(sama dengan, dan, sama dengan)\n",
      "sama dengan Relas\n",
      "dan Gate\n",
      "sama dengan Relas\n",
      "6 17 Relas\n",
      "(6, 17, 'Relas')\n",
      "22 25 Gate\n",
      "(22, 25, 'Gate')\n",
      "32 43 Relas\n",
      "(32, 43, 'Relas')\n",
      "apel kurang dari 10 dan harga_beras lebih dari 200\n",
      "{'entities': [(5, 16, 'Relas'), (20, 23, 'Gate'), (36, 46, 'Relas')]}\n",
      "(kurang dari, dan, lebih dari)\n",
      "kurang dari Relas\n",
      "dan Gate\n",
      "lebih dari Relas\n",
      "5 16 Relas\n",
      "(5, 16, 'Relas')\n",
      "20 23 Gate\n",
      "(20, 23, 'Gate')\n",
      "36 46 Relas\n",
      "(36, 46, 'Relas')\n",
      "Accuracy: 100.00%\n"
     ]
    }
   ],
   "source": [
    "# Data tes\n",
    "TEST_DATA = [\n",
    "    (\"Total buah sama dengan 17 dan besar bola kurang dari 17\", {\n",
    "        \"entities\": [(11, 22, \"Relas\"), (26, 29, \"Gate\"), (41, 52, \"Relas\")]\n",
    "    }),\n",
    "    (\"Suara sama dengan 100 dan juara sama dengan menang\", {\n",
    "        \"entities\": [(6, 17, \"Relas\"), (22, 25, \"Gate\"), (32, 43, \"Relas\")]\n",
    "    }),\n",
    "    (\"apel kurang dari 10 dan harga_beras lebih dari 200\", {\n",
    "        \"entities\": [(5, 16, \"Relas\"), (20, 23, \"Gate\"), (36, 46, \"Relas\")]\n",
    "    })\n",
    "    # Tambahkan data tes lainnya sesuai kebutuhan\n",
    "]\n",
    "\n",
    "correct_entities = 0  # Untuk menghitung entitas yang diidentifikasi dengan benar\n",
    "total_entities = 0   # Untuk menghitung total entitas sebenarnya\n",
    "\n",
    "for text, annotations in TEST_DATA:\n",
    "    print(text)\n",
    "    print(annotations)\n",
    "    doc = nlp(text)  # Proses data tes dengan model\n",
    "    print(doc.ents)\n",
    "\n",
    "    for ent in doc.ents:\n",
    "        print(ent.text, ent.label_)\n",
    "    \n",
    "    for ent in annotations[\"entities\"]:\n",
    "        start, end, label = ent\n",
    "        if (start, end, label) in [(ent.start_char, ent.end_char, ent.label_) for ent in doc.ents]:\n",
    "            correct_entities += 1\n",
    "        print(start, end, label)\n",
    "        print(ent)\n",
    "        total_entities += 1\n",
    "\n",
    "accuracy = (correct_entities / total_entities) * 100\n",
    "print(f\"Accuracy: {accuracy:.2f}%\")"
   ]
  }
 ],
 "metadata": {
  "kernelspec": {
   "display_name": "Python 3 (ipykernel)",
   "language": "python",
   "name": "python3"
  },
  "language_info": {
   "codemirror_mode": {
    "name": "ipython",
    "version": 3
   },
   "file_extension": ".py",
   "mimetype": "text/x-python",
   "name": "python",
   "nbconvert_exporter": "python",
   "pygments_lexer": "ipython3",
   "version": "3.11.5"
  }
 },
 "nbformat": 4,
 "nbformat_minor": 5
}
